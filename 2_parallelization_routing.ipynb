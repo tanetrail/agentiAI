{
 "cells": [
  {
   "cell_type": "markdown",
   "metadata": {},
   "source": [
    "## Parallelization - Distribute independent subtasks across multiple LLMs for concurrent processing"
   ]
  },
  {
   "cell_type": "code",
   "execution_count": 1,
   "metadata": {},
   "outputs": [
    {
     "name": "stderr",
     "output_type": "stream",
     "text": [
      "/Users/ips/Documents/trail/AI Agents/aiagent/lib/python3.11/site-packages/tqdm/auto.py:21: TqdmWarning: IProgress not found. Please update jupyter and ipywidgets. See https://ipywidgets.readthedocs.io/en/stable/user_install.html\n",
      "  from .autonotebook import tqdm as notebook_tqdm\n"
     ]
    }
   ],
   "source": [
    "import os\n",
    "from dotenv import load_dotenv\n",
    "\n",
    "load_dotenv()\n",
    "\n",
    "os.environ[\"GOOGLE_API_KEY\"] = os.getenv(\"GEMINI_API_KEY\")\n",
    "\n",
    "from langchain_google_genai import ChatGoogleGenerativeAI\n",
    "llm = ChatGoogleGenerativeAI(model=\"gemini-2.0-flash-exp\")"
   ]
  },
  {
   "cell_type": "code",
   "execution_count": 2,
   "metadata": {},
   "outputs": [
    {
     "name": "stdout",
     "output_type": "stream",
     "text": [
      "Hola Ram, ¿cómo estás?\n",
      "Estoy bien, hermano. Te extrañé mucho.\n",
      "Te ves muy bien desde la última vez.\n"
     ]
    }
   ],
   "source": [
    "from concurrent.futures import ThreadPoolExecutor # this is abstract representation of pool of threads which can be used to execute tasks in parallel\n",
    "\n",
    "#list of messagee to translate\n",
    "a = [\n",
    "    \"Hi ram how are you ?\",\n",
    "    \"I am good bro missed you so much\",\n",
    "    \"You are so looking good from last time\"\n",
    "]\n",
    "\n",
    "# Function to process a single message\n",
    "def process_message(message):\n",
    "    \"\"\"\n",
    "    This function takes the message and translates it to Spanish using the LLM\n",
    "    \"\"\"\n",
    "    return llm.invoke(f\"Translate this to spanish:\\n{message}.Only give me the translation no explanation or any other text\")\n",
    "\n",
    "# Using ThreadPoolExecutor for parallel processing\n",
    "with ThreadPoolExecutor(max_workers=3) as executor:\n",
    "    results = list(executor.map(process_message,a))\n",
    "\n",
    "# Printing Results\n",
    "for result in results:\n",
    "    print(result.content)"
   ]
  },
  {
   "cell_type": "markdown",
   "metadata": {},
   "source": [
    "## Routing - Dynamically selects specialized LLM paths based on input characteristics"
   ]
  },
  {
   "cell_type": "code",
   "execution_count": 3,
   "metadata": {},
   "outputs": [
    {
     "name": "stdout",
     "output_type": "stream",
     "text": [
      "[\" 'Life insurance'\", \"'Health insurance'\", \" 'Car insurance'\", \" 'Home insurance'\", \" 'General Consultation' \"]\n"
     ]
    }
   ],
   "source": [
    "options = \"\"\" 'Life insurance','Health insurance', 'Car insurance', 'Home insurance', 'General Consultation' \"\"\"\n",
    "print(options.split(\",\"))\n",
    "input_question = \"My car is damaged and I want to buy a car insurance policy ?\"\n",
    "\n",
    "selection_pompt = f\"\"\"\n",
    "user query: {input_question}\n",
    "Analyze the user query and select the most relevant option from the list of options {options.split(\",\")}.\n",
    "First explain your reasoning and then give me the answer in this XML format:\n",
    "\n",
    "<reasoning>\n",
    "Explain your reasoning here\n",
    "</reasoning>\n",
    "<answer>\n",
    "Answer here\n",
    "</answer>\n",
    "\"\"\"\n",
    "\n",
    "result = llm.invoke(selection_pompt)"
   ]
  },
  {
   "cell_type": "code",
   "execution_count": 7,
   "metadata": {},
   "outputs": [
    {
     "name": "stdout",
     "output_type": "stream",
     "text": [
      "Car insurance\n",
      "The user is looking for insurance because their car is damaged. The query explicitly mentions \"car insurance policy\". Therefore, the most relevant option is car insurance.\n"
     ]
    }
   ],
   "source": [
    "def extract_option(result):\n",
    "    return result.content.split(\"<answer>\")[1].split(\"</answer>\")[0].strip()\n",
    "\n",
    "def extract_reasoning(result):\n",
    "    return result.content.split(\"<reasoning>\")[1].split(\"</reasoning>\")[0].strip()\n",
    "\n",
    "option = extract_option(result)\n",
    "print(option)\n",
    "print(extract_reasoning(result))"
   ]
  },
  {
   "cell_type": "code",
   "execution_count": 9,
   "metadata": {},
   "outputs": [
    {
     "data": {
      "text/plain": [
       "'Car insurance'"
      ]
     },
     "execution_count": 9,
     "metadata": {},
     "output_type": "execute_result"
    }
   ],
   "source": [
    "option"
   ]
  },
  {
   "cell_type": "code",
   "execution_count": 12,
   "metadata": {},
   "outputs": [
    {
     "name": "stdout",
     "output_type": "stream",
     "text": [
      "Car insurance tool free number is 1800-976-7654\n"
     ]
    }
   ],
   "source": [
    "# Based on option selected print the tool free number \n",
    "if option == 'Car insurance':\n",
    "    print(\"Car insurance tool free number is 1800-976-7654\")\n",
    "elif option == 'Home insurance':\n",
    "    print(\"Home insurance tool free number is 1800-976-7654\")"
   ]
  }
 ],
 "metadata": {
  "kernelspec": {
   "display_name": "Python 3",
   "language": "python",
   "name": "python3"
  },
  "language_info": {
   "codemirror_mode": {
    "name": "ipython",
    "version": 3
   },
   "file_extension": ".py",
   "mimetype": "text/x-python",
   "name": "python",
   "nbconvert_exporter": "python",
   "pygments_lexer": "ipython3",
   "version": "3.11.0"
  }
 },
 "nbformat": 4,
 "nbformat_minor": 2
}
