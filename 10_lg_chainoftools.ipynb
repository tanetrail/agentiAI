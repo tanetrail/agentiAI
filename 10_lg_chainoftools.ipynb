{
 "cells": [
  {
   "cell_type": "code",
   "execution_count": 17,
   "metadata": {},
   "outputs": [],
   "source": [
    "import os\n",
    "from dotenv import load_dotenv\n",
    "from datetime import datetime\n",
    "\n",
    "load_dotenv()\n",
    "\n",
    "os.environ[\"GOOGLE_API_KEY\"] = os.getenv(\"GEMINI_API_KEY\")\n",
    "\n",
    "from langchain_google_genai import ChatGoogleGenerativeAI\n",
    "llm = ChatGoogleGenerativeAI(model=\"gemini-2.0-flash-exp\")"
   ]
  },
  {
   "cell_type": "code",
   "execution_count": 18,
   "metadata": {},
   "outputs": [],
   "source": [
    "from typing import Annotated\n",
    "from typing_extensions import TypedDict\n",
    "from langgraph.graph import StateGraph, START, END\n",
    "from langgraph.graph import add_messages\n",
    "\n",
    "class State(TypedDict):\n",
    "    # Messages have the type list. The add_messages function\n",
    "    # in the annotation defines how this state key should be updated\n",
    "    # in this case it appends the list rather than overwriting them\n",
    "    messages:Annotated[list, add_messages]\n",
    "\n",
    "graph_builder = StateGraph(State)"
   ]
  },
  {
   "cell_type": "code",
   "execution_count": 19,
   "metadata": {},
   "outputs": [],
   "source": [
    "from langchain_community.tools import WikipediaQueryRun\n",
    "from langchain_community.utilities import WikipediaAPIWrapper\n",
    "from tavily import TavilyClient\n",
    "from langchain_core.messages import SystemMessage\n",
    "\n",
    "wikipedia = WikipediaQueryRun(api_wrapper=WikipediaAPIWrapper(doc_content_chars_max=10000000))\n",
    "tavily_client = TavilyClient(api_key=os.getenv(\"TAVILY_API_KEY\"))\n",
    "\n",
    "def wikipedia_tool(query: str)->str:\n",
    "    \"\"\"Goes to wikipedia and searches for the query\n",
    "    Args: \n",
    "        query (str): querey to search for \n",
    "    Returns:\n",
    "        str: The result of the search\n",
    "    \"\"\"\n",
    "    wikipedia = WikipediaQueryRun(api_wrapper=WikipediaAPIWrapper(doc_content_chars_max=10000000))\n",
    "    return wikipedia.run(query)\n",
    "\n",
    "def tavily_tool(query:str) -> str:\n",
    "    \"\"\"\n",
    "    Goes to tavily search and searches for the query and gives the detailed content\n",
    "    Args:\n",
    "        query (str): querey to search for \n",
    "    Returns:\n",
    "        str: The result of the search\n",
    "        \n",
    "    \"\"\"\n",
    "    response = tavily_client.search(query)\n",
    "    content = \"\"\n",
    "    for i in response['results']:\n",
    "        content += i['content']\n",
    "    return content\n",
    "\n",
    "llm_with_wikipedia_tool = llm.bind_tools([wikipedia_tool])\n",
    "llm_with_tavily_tool = llm.bind_tools([tavily_tool])\n",
    "\n",
    "\n",
    "sys_msg_wikipedia = SystemMessage(content=\"You are a helpful assistant that breaks down the query into a key word and searches wikipedia for the key word\")\n",
    "sys_msg_tavily = SystemMessage(content=\"You are a helpful assistant that breaks down the quert into a key word and searches tavily for the key word\")\n",
    "sys_msg_summarize = SystemMessage(content=\"You are a helpful assistant that summarizes the content given to you\")\n",
    "\n",
    "#Define nodes\n",
    "def wikipedia_llm(state: State):\n",
    "    return {\"messages\": [llm_with_wikipedia_tool.invoke([sys_msg_wikipedia] + state[\"messages\"])]}\n",
    "\n",
    "def tavily_llm(state:State):\n",
    "    return {\"messages\": [llm_with_tavily_tool.invoke([sys_msg_tavily] + state[\"messages\"])]}\n",
    "\n",
    "def summarize_llm(state:State):\n",
    "    \"\"\"Summarizes the wikipedia content\"\"\"\n",
    "    return {\"messages\": [llm.invoke([sys_msg_summarize] + state[\"messages\"])]}\n"
   ]
  },
  {
   "cell_type": "code",
   "execution_count": null,
   "metadata": {},
   "outputs": [
    {
     "data": {
      "image/png": "[encoded data removed]",
      "text/plain": [
       "<IPython.core.display.Image object>"
      ]
     },
     "metadata": {},
     "output_type": "display_data"
    }
   ],
   "source": [
    "## Define Graph\n",
    "from IPython.display import Image, display\n",
    "from langgraph.graph import StateGraph, START, END\n",
    "from langgraph.prebuilt import ToolNode\n",
    "\n",
    "\n",
    "graph_builder = StateGraph(State)\n",
    "graph_builder.add_node(\"Wikipedia_tool_calling_llm\", wikipedia_llm)\n",
    "## forcing llm to use wikipedia tool\n",
    "graph_builder.add_node(\"wiki_tool\",ToolNode([wikipedia_tool]))\n",
    "graph_builder.add_node(\"summarize_llm\",summarize_llm)\n",
    "\n",
    "graph_builder.add_edge(START,\"Wikipedia_tool_calling_llm\")\n",
    "graph_builder.add_edge(\"Wikipedia_tool_calling_llm\",\"wiki_tool\")\n",
    "graph_builder.add_edge(\"wiki_tool\",\"summarize_llm\")\n",
    "graph_builder.add_edge(\"summarize_llm\",END)\n",
    "\n",
    "graph = graph_builder.compile()\n",
    "\n",
    "display(Image(graph.get_graph().draw_mermaid_png()))"
   ]
  },
  {
   "cell_type": "code",
   "execution_count": 24,
   "metadata": {},
   "outputs": [
    {
     "data": {
      "text/plain": [
       "{'messages': [HumanMessage(content='Indian Food', additional_kwargs={}, response_metadata={}, id='2361b701-9330-4a63-98ee-40a0dbbf511c'),\n",
       "  AIMessage(content='', additional_kwargs={'function_call': {'name': 'wikipedia_tool', 'arguments': '{\"query\": \"Indian Food\"}'}}, response_metadata={'prompt_feedback': {'block_reason': 0, 'safety_ratings': []}, 'finish_reason': 'STOP', 'safety_ratings': []}, id='run-538e2f9b-9450-4e48-8ae5-098c7f104cdc-0', tool_calls=[{'name': 'wikipedia_tool', 'args': {'query': 'Indian Food'}, 'id': '7bd6c81d-0d12-4e1a-aa36-7f4361088b26', 'type': 'tool_call'}], usage_metadata={'input_tokens': 64, 'output_tokens': 6, 'total_tokens': 70, 'input_token_details': {'cache_read': 0}}),\n",
       "  ToolMessage(content='Page: Indian cuisine\\nSummary: Indian cuisine consists of a variety of regional and traditional cuisines native to the Indian subcontinent. Given the diversity in soil, climate, culture, ethnic groups, and occupations, these cuisines vary substantially and use locally available spices, herbs, vegetables, and fruits.\\nIndian food is also heavily influenced by religion, in particular Hinduism and Islam, cultural choices and traditions. Historical events such as invasions, trade relations, and colonialism have played a role in introducing certain foods to India. The Columbian discovery of the New World brought a number of new vegetables and fruits. A number of these such as potatoes, tomatoes, chillies, peanuts, and guava have become staples in many regions of India.\\nIndian cuisine has shaped the history of international relations; the spice trade between India and Europe was the primary catalyst for Europe\\'s Age of Discovery. Spices were bought from India and traded around Europe and Asia. Indian cuisine has influenced other cuisines across the world, especially those from Europe (Britain in particular), the Middle East, Southern African, East Africa, Southeast Asia, North America, Mauritius, Fiji, Oceania, and the Caribbean.\\nWorld Wildlife Fund (WWF)’s Living Planet Report released on 10 October 2024 emphasized India’s food consumption pattern as the most sustainable among the big economies (G20 countries).\\n\\nPage: Anglo-Indian cuisine\\nSummary: Anglo-Indian cuisine is the cuisine that developed during the British Raj in India. The cuisine introduced dishes such as curry, chutney, kedgeree, mulligatawny and pish pash to English palates.\\nAnglo-Indian cuisine was documented in detail by the English colonel Arthur Robert Kenney-Herbert, writing as \"Wyvern\" in 1885 to advise the British Raj\\'s memsahibs what to instruct their Indian cooks to make. Many of its usages are described in the \"wonderful\" 1886 Anglo-Indian dictionary, Hobson-Jobson. More recently, the cuisine has been analysed by Jennifer Brennan in 1990 and David Burton in 1993.\\n\\n\\n\\nPage: List of snack foods from the Indian subcontinent\\nSummary: This is a list of Indian snacks arranged in alphabetical order. Snacks are a significant aspect of Indian cuisine, and are sometimes referred to as chaat.', name='wikipedia_tool', id='fed209c3-33e3-40b0-969a-b5ee271d041e', tool_call_id='7bd6c81d-0d12-4e1a-aa36-7f4361088b26'),\n",
       "  AIMessage(content='Indian cuisine is a diverse collection of regional and traditional cuisines native to the Indian subcontinent. These cuisines vary due to differences in soil, climate, culture, and occupations, and they utilize locally available spices, herbs, vegetables, and fruits. Religion, cultural choices, historical events like invasions and trade, and colonialism have significantly impacted Indian food. The Columbian discovery introduced new vegetables and fruits like potatoes and tomatoes, which became staples. Indian cuisine has influenced global cuisines and played a vital role in international relations, particularly the spice trade between India and Europe. Anglo-Indian cuisine developed during the British Raj and introduced dishes like curry and chutney to English palates. Snacks are a significant part of Indian cuisine and are often called chaat.', additional_kwargs={}, response_metadata={'prompt_feedback': {'block_reason': 0, 'safety_ratings': []}, 'finish_reason': 'STOP', 'safety_ratings': []}, id='run-c94b9c04-d287-4556-bfbe-1f069a48c006-0', usage_metadata={'input_tokens': 502, 'output_tokens': 147, 'total_tokens': 649, 'input_token_details': {'cache_read': 0}})]}"
      ]
     },
     "execution_count": 24,
     "metadata": {},
     "output_type": "execute_result"
    }
   ],
   "source": [
    "from langchain_core.messages import HumanMessage\n",
    "messages = graph.invoke({\"messages\": [HumanMessage(content=\"Indian Food\")]})\n",
    "\n",
    "messages"
   ]
  },
  {
   "cell_type": "code",
   "execution_count": 25,
   "metadata": {},
   "outputs": [
    {
     "name": "stdout",
     "output_type": "stream",
     "text": [
      "================================\u001b[1m Human Message \u001b[0m=================================\n",
      "\n",
      "Indian Food\n",
      "==================================\u001b[1m Ai Message \u001b[0m==================================\n",
      "Tool Calls:\n",
      "  wikipedia_tool (7bd6c81d-0d12-4e1a-aa36-7f4361088b26)\n",
      " Call ID: 7bd6c81d-0d12-4e1a-aa36-7f4361088b26\n",
      "  Args:\n",
      "    query: Indian Food\n",
      "=================================\u001b[1m Tool Message \u001b[0m=================================\n",
      "Name: wikipedia_tool\n",
      "\n",
      "Page: Indian cuisine\n",
      "Summary: Indian cuisine consists of a variety of regional and traditional cuisines native to the Indian subcontinent. Given the diversity in soil, climate, culture, ethnic groups, and occupations, these cuisines vary substantially and use locally available spices, herbs, vegetables, and fruits.\n",
      "Indian food is also heavily influenced by religion, in particular Hinduism and Islam, cultural choices and traditions. Historical events such as invasions, trade relations, and colonialism have played a role in introducing certain foods to India. The Columbian discovery of the New World brought a number of new vegetables and fruits. A number of these such as potatoes, tomatoes, chillies, peanuts, and guava have become staples in many regions of India.\n",
      "Indian cuisine has shaped the history of international relations; the spice trade between India and Europe was the primary catalyst for Europe's Age of Discovery. Spices were bought from India and traded around Europe and Asia. Indian cuisine has influenced other cuisines across the world, especially those from Europe (Britain in particular), the Middle East, Southern African, East Africa, Southeast Asia, North America, Mauritius, Fiji, Oceania, and the Caribbean.\n",
      "World Wildlife Fund (WWF)’s Living Planet Report released on 10 October 2024 emphasized India’s food consumption pattern as the most sustainable among the big economies (G20 countries).\n",
      "\n",
      "Page: Anglo-Indian cuisine\n",
      "Summary: Anglo-Indian cuisine is the cuisine that developed during the British Raj in India. The cuisine introduced dishes such as curry, chutney, kedgeree, mulligatawny and pish pash to English palates.\n",
      "Anglo-Indian cuisine was documented in detail by the English colonel Arthur Robert Kenney-Herbert, writing as \"Wyvern\" in 1885 to advise the British Raj's memsahibs what to instruct their Indian cooks to make. Many of its usages are described in the \"wonderful\" 1886 Anglo-Indian dictionary, Hobson-Jobson. More recently, the cuisine has been analysed by Jennifer Brennan in 1990 and David Burton in 1993.\n",
      "\n",
      "\n",
      "\n",
      "Page: List of snack foods from the Indian subcontinent\n",
      "Summary: This is a list of Indian snacks arranged in alphabetical order. Snacks are a significant aspect of Indian cuisine, and are sometimes referred to as chaat.\n",
      "==================================\u001b[1m Ai Message \u001b[0m==================================\n",
      "\n",
      "Indian cuisine is a diverse collection of regional and traditional cuisines native to the Indian subcontinent. These cuisines vary due to differences in soil, climate, culture, and occupations, and they utilize locally available spices, herbs, vegetables, and fruits. Religion, cultural choices, historical events like invasions and trade, and colonialism have significantly impacted Indian food. The Columbian discovery introduced new vegetables and fruits like potatoes and tomatoes, which became staples. Indian cuisine has influenced global cuisines and played a vital role in international relations, particularly the spice trade between India and Europe. Anglo-Indian cuisine developed during the British Raj and introduced dishes like curry and chutney to English palates. Snacks are a significant part of Indian cuisine and are often called chaat.\n"
     ]
    }
   ],
   "source": [
    "for m in messages['messages']:\n",
    "    m.pretty_print()"
   ]
  }
 ],
 "metadata": {
  "kernelspec": {
   "display_name": "Python 3",
   "language": "python",
   "name": "python3"
  },
  "language_info": {
   "codemirror_mode": {
    "name": "ipython",
    "version": 3
   },
   "file_extension": ".py",
   "mimetype": "text/x-python",
   "name": "python",
   "nbconvert_exporter": "python",
   "pygments_lexer": "ipython3",
   "version": "3.11.0"
  }
 },
 "nbformat": 4,
 "nbformat_minor": 2
}
