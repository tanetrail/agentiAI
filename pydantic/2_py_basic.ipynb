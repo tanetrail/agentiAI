{
 "cells": [
  {
   "cell_type": "code",
   "execution_count": 2,
   "metadata": {},
   "outputs": [
    {
     "name": "stdout",
     "output_type": "stream",
     "text": [
      "age=25 name='John' email='john@example.com'\n",
      "25\n",
      "John\n",
      "john@example.com\n",
      "Valid user created: age=25 name='John' email='john@example.com'\n",
      "\n",
      "Validation Error:\n",
      "1 validation error for User\n",
      "age\n",
      "  Input should be a valid integer, unable to parse string as an integer [type=int_parsing, input_value='twenty five', input_type=str]\n",
      "    For further information visit https://errors.pydantic.dev/2.10/v/int_parsing\n"
     ]
    }
   ],
   "source": [
    "from pydantic import BaseModel, ValidationError\n",
    "\n",
    "class User(BaseModel):\n",
    "    age: int\n",
    "    name:str\n",
    "    email:str\n",
    "\n",
    "a=User(age=25, name=\"John\", email=\"john@example.com\")\n",
    "\n",
    "print(a)    \n",
    "print(a.age)\n",
    "print(a.name)\n",
    "print(a.email)\n",
    "\n",
    "# Example showing Pydantic's automatic type validation\n",
    "\n",
    "try:\n",
    "    # This will succeed - all types are correct\n",
    "    valid_user = User(age=25, name=\"John\", email=\"john@example.com\")\n",
    "    print(\"Valid user created:\", valid_user)\n",
    "\n",
    "    # This will fail - age should be int, not str\n",
    "    invalid_user = User(age=\"twenty five\", name=\"Jane\", email=\"jane@example.com\")\n",
    "    print(\"You won't see this - validation will fail first\")\n",
    "\n",
    "except ValidationError as e:\n",
    "    print(\"\\nValidation Error:\")\n",
    "    print(e)\n",
    "    # Will show detailed error explaining age must be an integer"
   ]
  }
 ],
 "metadata": {
  "kernelspec": {
   "display_name": "Python 3",
   "language": "python",
   "name": "python3"
  },
  "language_info": {
   "codemirror_mode": {
    "name": "ipython",
    "version": 3
   },
   "file_extension": ".py",
   "mimetype": "text/x-python",
   "name": "python",
   "nbconvert_exporter": "python",
   "pygments_lexer": "ipython3",
   "version": "3.11.0"
  }
 },
 "nbformat": 4,
 "nbformat_minor": 2
}
