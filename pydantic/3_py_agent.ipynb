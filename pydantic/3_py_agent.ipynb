{
 "cells": [
  {
   "cell_type": "code",
   "execution_count": 1,
   "metadata": {},
   "outputs": [
    {
     "name": "stdout",
     "output_type": "stream",
     "text": [
      "It's that thing you learned in math class that you've never used in real life, unless you're a carpenter or a very precise pizza cutter.\n",
      "\n",
      "['__abstractmethods__', '__annotations__', '__class__', '__class_getitem__', '__dataclass_fields__', '__dataclass_params__', '__delattr__', '__dict__', '__dir__', '__doc__', '__eq__', '__format__', '__ge__', '__getattribute__', '__getstate__', '__gt__', '__hash__', '__init__', '__init_subclass__', '__le__', '__lt__', '__match_args__', '__module__', '__ne__', '__new__', '__orig_bases__', '__parameters__', '__reduce__', '__reduce_ex__', '__repr__', '__setattr__', '__sizeof__', '__slots__', '__str__', '__subclasshook__', '__weakref__', '_abc_impl', '_all_messages', '_is_protocol', '_new_message_index', '_result_tool_name', '_set_result_tool_return', '_usage', 'all_messages', 'all_messages_json', 'data', 'new_messages', 'new_messages_json', 'usage']\n"
     ]
    }
   ],
   "source": [
    "'''\n",
    "\n",
    "PydanticAI is a Python agent framework designed to make it less painful to build production grade applications with Generative AI.\n",
    "\n",
    "FastAPI revolutionized web development by offering an innovative and ergonomic design, built on the foundation of Pydantic.\n",
    "\n",
    "Similarly, virtually every agent framework and LLM library in Python uses Pydantic, yet when we began to use LLMs in Pydantic Logfire, we couldn't find anything that gave us the same feeling.\n",
    "\n",
    "We built PydanticAI with one simple aim: to bring that FastAPI feeling to GenAI app development.\n",
    "'''\n",
    "\n",
    "import os\n",
    "from dotenv import load_dotenv\n",
    "from datetime import datetime\n",
    "from pydantic_ai import Agent\n",
    "\n",
    "load_dotenv()\n",
    "\n",
    "os.environ[\"GOOGLE_API_KEY\"] = os.getenv(\"GEMINI_API_KEY\")\n",
    "\n",
    "agent = Agent(  \n",
    "    'gemini-2.0-flash-exp',\n",
    "    system_prompt='Be funny, reply with one sentence.',  \n",
    ")\n",
    "\n",
    "import nest_asyncio\n",
    "nest_asyncio.apply()\n",
    "\n",
    "\n",
    "result = agent.run_sync('What is pythagoras theorem?')  \n",
    "print(result.data)\n",
    "\n",
    "print(dir(result))"
   ]
  }
 ],
 "metadata": {
  "kernelspec": {
   "display_name": "Python 3",
   "language": "python",
   "name": "python3"
  },
  "language_info": {
   "codemirror_mode": {
    "name": "ipython",
    "version": 3
   },
   "file_extension": ".py",
   "mimetype": "text/x-python",
   "name": "python",
   "nbconvert_exporter": "python",
   "pygments_lexer": "ipython3",
   "version": "3.11.0"
  }
 },
 "nbformat": 4,
 "nbformat_minor": 2
}
