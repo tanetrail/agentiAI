{
 "cells": [
  {
   "cell_type": "code",
   "execution_count": 4,
   "metadata": {},
   "outputs": [],
   "source": [
    "'''\n",
    "Hello World in pydantic AI\n",
    "\n",
    "1.Basic Agent Usage\n",
    "2.Basic Message History\n",
    "\n",
    "Pydantic AI is great for structured output.\n",
    "'''\n",
    "\n",
    "import os\n",
    "from dotenv import load_dotenv\n",
    "from datetime import datetime\n",
    "from pydantic_ai import Agent\n",
    "\n",
    "load_dotenv()\n",
    "\n",
    "os.environ[\"GOOGLE_API_KEY\"] = os.getenv(\"GEMINI_API_KEY\")\n",
    "\n"
   ]
  },
  {
   "cell_type": "code",
   "execution_count": 6,
   "metadata": {},
   "outputs": [],
   "source": [
    "from pydantic import BaseModel\n",
    "from enum import Enum\n",
    "\n",
    "class Action(str, Enum):\n",
    "    Yes = 'Yes'\n",
    "    No = 'No'\n",
    "\n",
    "class Response(BaseModel):\n",
    "    rating:float\n",
    "    action_taken:Action\n",
    "\n",
    "agent = Agent(\n",
    "    'gemini-2.0-flash-exp',\n",
    "    system_prompt='Given a product review, rate it from 1 to 10 and decide if the internal team needs to take action for bad reviews.',\n",
    "    result_type=Response\n",
    ")\n",
    "\n"
   ]
  },
  {
   "cell_type": "code",
   "execution_count": 9,
   "metadata": {},
   "outputs": [
    {
     "name": "stdout",
     "output_type": "stream",
     "text": [
      "rating=1.0 action_taken=<Action.Yes: 'Yes'>\n"
     ]
    }
   ],
   "source": [
    "import nest_asyncio\n",
    "nest_asyncio.apply()\n",
    "\n",
    "result = agent.run_sync('The product is super slow and boring.')\n",
    "print(result.data)"
   ]
  }
 ],
 "metadata": {
  "kernelspec": {
   "display_name": "Python 3",
   "language": "python",
   "name": "python3"
  },
  "language_info": {
   "codemirror_mode": {
    "name": "ipython",
    "version": 3
   },
   "file_extension": ".py",
   "mimetype": "text/x-python",
   "name": "python",
   "nbconvert_exporter": "python",
   "pygments_lexer": "ipython3",
   "version": "3.11.0"
  }
 },
 "nbformat": 4,
 "nbformat_minor": 2
}
