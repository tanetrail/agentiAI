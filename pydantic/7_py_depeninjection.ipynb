{
 "cells": [
  {
   "cell_type": "markdown",
   "metadata": {},
   "source": [
    "'''\n",
    "1. Dependency Injection (DI) is a design pattern where dependencies (external services, databases, API clients, etc.) \n",
    "   are provided to a class or function rather than being hardcoded inside it. \n",
    "   This makes code more modular, reusable, and testable.\n",
    "\n",
    "2. In this code, we are implementing DI using a `dataclass` (MyDeps), which injects:\n",
    "   - An API key (used for authorization)\n",
    "   - An asynchronous HTTP client (`httpx.AsyncClient`) for making API requests.\n",
    "\n",
    "3. Instead of directly defining a static system prompt, we dynamically fetch the prompt from an external API \n",
    "   (`https://example.com`) using DI.\n",
    "\n",
    "4. The AI agent (`Agent`) is created using the `pydantic_ai` library and configured to use `gemini-1.5-flash`.\n",
    "\n",
    "5. The `main()` function runs the agent and prints a response to a user query.\n",
    "'''"
   ]
  },
  {
   "cell_type": "code",
   "execution_count": null,
   "metadata": {},
   "outputs": [],
   "source": [
    "# Import necessary libraries\n",
    "from dataclasses import dataclass  # For creating dependency injection structure\n",
    "import asyncio  # For handling asynchronous execution\n",
    "import httpx  # Asynchronous HTTP client for making API calls\n",
    "\n",
    "# Import AI-related classes from pydantic_ai\n",
    "from pydantic_ai import Agent, RunContext\n",
    "\n",
    "import os\n",
    "from dotenv import load_dotenv  # To load environment variables securely\n",
    "\n",
    "# Load environment variables from .env file\n",
    "load_dotenv()\n",
    "os.environ[\"GEMINI_API_KEY\"] = os.getenv(\"GEMINI_API_KEY\")  # Store API key in environment variable\n",
    "\n"
   ]
  },
  {
   "cell_type": "code",
   "execution_count": null,
   "metadata": {},
   "outputs": [],
   "source": [
    "# --------------------------- Dependency Injection Setup ---------------------------\n",
    "@dataclass  # `dataclass` is used to automatically generate __init__, __repr__, etc.\n",
    "class MyDeps:\n",
    "    \"\"\"\n",
    "    This dataclass is used for Dependency Injection.\n",
    "    \n",
    "    It contains:\n",
    "    - `api_key`: A string storing the API key used for authentication.\n",
    "    - `http_client`: An instance of `httpx.AsyncClient` for making asynchronous HTTP requests.\n",
    "    \"\"\"\n",
    "    api_key: str\n",
    "    http_client: httpx.AsyncClient  # Asynchronous HTTP client"
   ]
  },
  {
   "cell_type": "code",
   "execution_count": null,
   "metadata": {},
   "outputs": [],
   "source": [
    "# --------------------------- AI Agent Configuration ---------------------------\n",
    "agent = Agent(\n",
    "    'gemini-2.0-flash-exp',  # Specifies the LLM model to be used\n",
    "    deps_type=MyDeps,  # Defines the dependency injection type for the agent\n",
    ")"
   ]
  },
  {
   "cell_type": "code",
   "execution_count": null,
   "metadata": {},
   "outputs": [],
   "source": [
    "# --------------------------- Dynamic System Prompt Function ---------------------------\n",
    "@agent.system_prompt  # This decorator registers the function to generate a system prompt dynamically\n",
    "async def get_system_prompt(ctx: RunContext[MyDeps]) -> str:\n",
    "    \"\"\"\n",
    "    This function dynamically generates the system prompt for the AI agent.\n",
    "\n",
    "    - It retrieves text from an external API (`https://example.com`).\n",
    "    - Uses Dependency Injection (`ctx.deps`) to access:\n",
    "      - `http_client`: Injected HTTP client for making requests.\n",
    "      - `api_key`: Injected API key for authentication.\n",
    "    - Returns the fetched text as a formatted system prompt.\n",
    "\n",
    "    Parameters:\n",
    "    - ctx: RunContext[MyDeps] → Provides access to injected dependencies.\n",
    "\n",
    "    Returns:\n",
    "    - str: The dynamically fetched system prompt.\n",
    "    \"\"\"\n",
    "    response = await ctx.deps.http_client.get(  # Make an asynchronous HTTP GET request\n",
    "        'https://example.com',\n",
    "        headers={'Authorization': f'Bearer {ctx.deps.api_key}'},  # Add API key for authentication\n",
    "    )\n",
    "    response.raise_for_status()  # Raise an error if the request fails\n",
    "    print(f\"Response: {response.text}\")\n",
    "    return f'Prompt: {response.text}'  # Return the fetched response text as the system prompt"
   ]
  },
  {
   "cell_type": "code",
   "execution_count": null,
   "metadata": {},
   "outputs": [],
   "source": [
    "# --------------------------- Main Function to Run AI Agent ---------------------------\n",
    "async def main():\n",
    "    \"\"\"\n",
    "    This function initializes the dependencies and runs the AI agent.\n",
    "\n",
    "    - Creates an instance of `httpx.AsyncClient` for making async HTTP requests.\n",
    "    - Injects `MyDeps` dependencies (API key + HTTP client) into the AI agent.\n",
    "    - Calls the AI agent to generate a response for the prompt \"Tell me a joke.\"\n",
    "    - Prints the response.\n",
    "\n",
    "    Expected Output:\n",
    "    - Example: \"Did you hear about the toothpaste scandal? They called it Colgate.\"\n",
    "    \"\"\"\n",
    "    async with httpx.AsyncClient() as client:  # Create an async HTTP client session\n",
    "        deps = MyDeps('foobar', client)  # Inject dependencies with a placeholder API key\n",
    "        result = await agent.run('Tell me a joke.', deps=deps)  # Run the AI agent with injected dependencies\n",
    "        print(result.data)  # Print the response from the AI agent\n",
    "\n",
    "# --------------------------- Entry Point for Script Execution ---------------------------\n",
    "if __name__ == '__main__':\n",
    "    \"\"\"\n",
    "    Ensures the script runs only when executed directly, not when imported as a module.\n",
    "    \n",
    "    `asyncio.run(main())` runs the main function asynchronously.\n",
    "    \"\"\"\n",
    "    asyncio.run(main())"
   ]
  }
 ],
 "metadata": {
  "kernelspec": {
   "display_name": "Python 3",
   "language": "python",
   "name": "python3"
  },
  "language_info": {
   "name": "python",
   "version": "3.11.0"
  }
 },
 "nbformat": 4,
 "nbformat_minor": 2
}
