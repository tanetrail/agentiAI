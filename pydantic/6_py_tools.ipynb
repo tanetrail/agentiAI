{
 "cells": [
  {
   "cell_type": "markdown",
   "metadata": {},
   "source": [
    "## Tools with pydantic.AI"
   ]
  },
  {
   "cell_type": "code",
   "execution_count": 1,
   "metadata": {},
   "outputs": [],
   "source": [
    "from pydantic import BaseModel\n",
    "from pydantic_ai import Agent, RunContext\n",
    "import os\n",
    "from dotenv import load_dotenv\n",
    "\n",
    "load_dotenv()\n",
    "os.environ[\"GEMINI_API_KEY\"]=os.getenv(\"GEMINI_API_KEY\")"
   ]
  },
  {
   "cell_type": "code",
   "execution_count": 5,
   "metadata": {},
   "outputs": [],
   "source": [
    "#Define output structure\n",
    "class Response(BaseModel):\n",
    "    rating:int\n",
    "    review_summary:str\n",
    "    review_length:int\n",
    "\n",
    "simple_agent = Agent(\n",
    "    'gemini-2.0-flash-exp',\n",
    "    system_prompt='Given a product review, rate it from 1 to 10.',\n",
    "    result_type=Response\n",
    ")"
   ]
  },
  {
   "cell_type": "code",
   "execution_count": null,
   "metadata": {},
   "outputs": [
    {
     "name": "stdout",
     "output_type": "stream",
     "text": [
      "rating=9 review_summary='The product is super cool and amazing' review_length=37\n",
      "37\n",
      "38\n",
      "Result object : /n\n",
      "RunResult(_all_messages=[ModelRequest(parts=[SystemPromptPart(content='Given a product review, rate it from 1 to 10.', dynamic_ref=None, part_kind='system-prompt'), UserPromptPart(content='The product is super cool and amazing.', timestamp=datetime.datetime(2025, 2, 20, 23, 45, 28, 369668, tzinfo=datetime.timezone.utc), part_kind='user-prompt')], kind='request'), ModelResponse(parts=[ToolCallPart(tool_name='get_review_length', args={'review': 'The product is super cool and amazing'}, tool_call_id=None, part_kind='tool-call')], model_name='gemini-2.0-flash-exp', timestamp=datetime.datetime(2025, 2, 20, 23, 45, 29, 3084, tzinfo=datetime.timezone.utc), kind='response'), ModelRequest(parts=[ToolReturnPart(tool_name='get_review_length', content=37, tool_call_id=None, timestamp=datetime.datetime(2025, 2, 20, 23, 45, 29, 4704, tzinfo=datetime.timezone.utc), part_kind='tool-return')], kind='request'), ModelResponse(parts=[ToolCallPart(tool_name='final_result', args={'review_length': 37, 'review_summary': 'The product is super cool and amazing', 'rating': 9}, tool_call_id=None, part_kind='tool-call')], model_name='gemini-2.0-flash-exp', timestamp=datetime.datetime(2025, 2, 20, 23, 45, 29, 658675, tzinfo=datetime.timezone.utc), kind='response'), ModelRequest(parts=[ToolReturnPart(tool_name='final_result', content='Final result processed.', tool_call_id=None, timestamp=datetime.datetime(2025, 2, 20, 23, 45, 29, 661108, tzinfo=datetime.timezone.utc), part_kind='tool-return')], kind='request')], _new_message_index=0, data=Response(rating=9, review_summary='The product is super cool and amazing', review_length=37), _result_tool_name='final_result', _usage=Usage(requests=2, request_tokens=151, response_tokens=30, total_tokens=181, details=None))\n"
     ]
    }
   ],
   "source": [
    "#Define tools\n",
    "@simple_agent.tool\n",
    "async def get_review_length(context: RunContext, review: str) -> int:\n",
    "    \"\"\"\n",
    "    Given a review, return the length of the review.\n",
    "    \"\"\"\n",
    "    return len(review)\n",
    "\n",
    "import nest_asyncio\n",
    "nest_asyncio.apply()\n",
    "\n",
    "result = simple_agent.run_sync('The product is super cool and amazing.')\n",
    "print(result.data)\n",
    "\n",
    "# Accessing review_length from the result.data\n",
    "print(result.data.review_length)\n",
    "\n",
    "\n",
    "\n",
    "#Cross Verification\n",
    "print(len(\"The product is super cool and amazing.\"))\n",
    "\n",
    "\n",
    "print(\"Result object :\")\n",
    "print(result)"
   ]
  }
 ],
 "metadata": {
  "kernelspec": {
   "display_name": "Python 3",
   "language": "python",
   "name": "python3"
  },
  "language_info": {
   "codemirror_mode": {
    "name": "ipython",
    "version": 3
   },
   "file_extension": ".py",
   "mimetype": "text/x-python",
   "name": "python",
   "nbconvert_exporter": "python",
   "pygments_lexer": "ipython3",
   "version": "3.11.0"
  }
 },
 "nbformat": 4,
 "nbformat_minor": 2
}
