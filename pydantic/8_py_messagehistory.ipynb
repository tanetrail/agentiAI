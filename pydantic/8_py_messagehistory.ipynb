{
 "cells": [
  {
   "cell_type": "code",
   "execution_count": 2,
   "metadata": {},
   "outputs": [
    {
     "name": "stdout",
     "output_type": "stream",
     "text": [
      "The first result is:\n",
      "The name \"India\" is derived from the Indus River, which flows through the northwest of the Indian subcontinent.\n",
      "\n",
      "The second result is:\n",
      "The first question you said was \"Where does India come from?\".\n",
      "\n"
     ]
    }
   ],
   "source": [
    "from pydantic_ai import Agent\n",
    "import os\n",
    "from dotenv import load_dotenv\n",
    "\n",
    "load_dotenv()\n",
    "os.environ[\"GEMINI_API_KEY\"]=os.getenv(\"GEMINI_API_KEY\")\n",
    "\n",
    "agent = Agent(  \n",
    "    'gemini-2.0-flash-exp',\n",
    "    system_prompt='Be concise, reply with one sentence.',  \n",
    ")\n",
    "\n",
    "import nest_asyncio\n",
    "nest_asyncio.apply()\n",
    "\n",
    "result1 = agent.run_sync('Where does India come from?')  \n",
    "\n",
    "print(\"The first result is:\")\n",
    "# print(result1)\n",
    "print(result1.data)\n",
    "# print(result1._usage)\n",
    "\n",
    "result2 = agent.run_sync('What was the first question I said?',message_history=result1._all_messages)\n",
    "print(\"The second result is:\")\n",
    "# print(result2)\n",
    "print(result2.data)\n",
    "# print(result2._usage)"
   ]
  }
 ],
 "metadata": {
  "kernelspec": {
   "display_name": "Python 3",
   "language": "python",
   "name": "python3"
  },
  "language_info": {
   "codemirror_mode": {
    "name": "ipython",
    "version": 3
   },
   "file_extension": ".py",
   "mimetype": "text/x-python",
   "name": "python",
   "nbconvert_exporter": "python",
   "pygments_lexer": "ipython3",
   "version": "3.11.0"
  }
 },
 "nbformat": 4,
 "nbformat_minor": 2
}
