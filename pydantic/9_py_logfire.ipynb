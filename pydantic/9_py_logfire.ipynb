{
 "cells": [
  {
   "cell_type": "markdown",
   "metadata": {},
   "source": [
    "'''\n",
    "\n",
    "PydanticAI is a Python agent framework designed to make it less painful to build production-grade applications with Generative AI.\n",
    "\n",
    "FastAPI revolutionized web development by offering an innovative and ergonomic design, built on the foundation of Pydantic.\n",
    "\n",
    "Similarly, virtually every agent framework and LLM library in Python uses Pydantic, yet when we began to use LLMs in Pydantic Logfire, we couldn't find anything that gave us the same feeling.\n",
    "\n",
    "We built PydanticAI with one simple aim: to bring that FastAPI feeling to GenAI app development.\n",
    "'''"
   ]
  },
  {
   "cell_type": "code",
   "execution_count": 2,
   "metadata": {},
   "outputs": [
    {
     "name": "stdout",
     "output_type": "stream",
     "text": [
      "No Logfire project credentials found.\n",
      "All data sent to Logfire must be associated with a project.\n",
      "\n"
     ]
    },
    {
     "ename": "LogfireConfigError",
     "evalue": "You are not authenticated. Please run `logfire auth` to authenticate.\n\nIf you are running in production, you can set the `LOGFIRE_TOKEN` environment variable.\nTo create a write token, refer to https://logfire.pydantic.dev/docs/guides/advanced/creating_write_tokens/\n",
     "output_type": "error",
     "traceback": [
      "\u001b[0;31m---------------------------------------------------------------------------\u001b[0m",
      "\u001b[0;31mLogfireConfigError\u001b[0m                        Traceback (most recent call last)",
      "Cell \u001b[0;32mIn[2], line 11\u001b[0m\n\u001b[1;32m      8\u001b[0m os\u001b[38;5;241m.\u001b[39menviron[\u001b[38;5;124m\"\u001b[39m\u001b[38;5;124mGEMINI_API_KEY\u001b[39m\u001b[38;5;124m\"\u001b[39m] \u001b[38;5;241m=\u001b[39m os\u001b[38;5;241m.\u001b[39mgetenv(\u001b[38;5;124m\"\u001b[39m\u001b[38;5;124mGEMINI_API_KEY\u001b[39m\u001b[38;5;124m\"\u001b[39m)\n\u001b[1;32m     10\u001b[0m \u001b[38;5;66;03m# Configure Logfire for logging\u001b[39;00m\n\u001b[0;32m---> 11\u001b[0m \u001b[43mlogfire\u001b[49m\u001b[38;5;241;43m.\u001b[39;49m\u001b[43mconfigure\u001b[49m\u001b[43m(\u001b[49m\u001b[43m)\u001b[49m\n\u001b[1;32m     12\u001b[0m logfire\u001b[38;5;241m.\u001b[39minstrument_httpx(capture_all\u001b[38;5;241m=\u001b[39m\u001b[38;5;28;01mTrue\u001b[39;00m)  \n\u001b[1;32m     13\u001b[0m os\u001b[38;5;241m.\u001b[39menviron[\u001b[38;5;124m\"\u001b[39m\u001b[38;5;124mLOGFIRE_TOKEN\u001b[39m\u001b[38;5;124m\"\u001b[39m]\u001b[38;5;241m=\u001b[39mos\u001b[38;5;241m.\u001b[39mgetenv(\u001b[38;5;124m\"\u001b[39m\u001b[38;5;124mLOGFIRE_TOKEN\u001b[39m\u001b[38;5;124m\"\u001b[39m)\n",
      "File \u001b[0;32m~/Documents/trail/AI Agents/aiagent/lib/python3.11/site-packages/logfire/_internal/config.py:429\u001b[0m, in \u001b[0;36mconfigure\u001b[0;34m(local, send_to_logfire, token, service_name, service_version, environment, console, config_dir, data_dir, additional_span_processors, metrics, scrubbing, inspect_arguments, sampling, code_source, distributed_tracing, advanced, **deprecated_kwargs)\u001b[0m\n\u001b[1;32m    427\u001b[0m \u001b[38;5;28;01melse\u001b[39;00m:\n\u001b[1;32m    428\u001b[0m     config \u001b[38;5;241m=\u001b[39m GLOBAL_CONFIG\n\u001b[0;32m--> 429\u001b[0m \u001b[43mconfig\u001b[49m\u001b[38;5;241;43m.\u001b[39;49m\u001b[43mconfigure\u001b[49m\u001b[43m(\u001b[49m\n\u001b[1;32m    430\u001b[0m \u001b[43m    \u001b[49m\u001b[43msend_to_logfire\u001b[49m\u001b[38;5;241;43m=\u001b[39;49m\u001b[43msend_to_logfire\u001b[49m\u001b[43m,\u001b[49m\n\u001b[1;32m    431\u001b[0m \u001b[43m    \u001b[49m\u001b[43mtoken\u001b[49m\u001b[38;5;241;43m=\u001b[39;49m\u001b[43mtoken\u001b[49m\u001b[43m,\u001b[49m\n\u001b[1;32m    432\u001b[0m \u001b[43m    \u001b[49m\u001b[43mservice_name\u001b[49m\u001b[38;5;241;43m=\u001b[39;49m\u001b[43mservice_name\u001b[49m\u001b[43m,\u001b[49m\n\u001b[1;32m    433\u001b[0m \u001b[43m    \u001b[49m\u001b[43mservice_version\u001b[49m\u001b[38;5;241;43m=\u001b[39;49m\u001b[43mservice_version\u001b[49m\u001b[43m,\u001b[49m\n\u001b[1;32m    434\u001b[0m \u001b[43m    \u001b[49m\u001b[43menvironment\u001b[49m\u001b[38;5;241;43m=\u001b[39;49m\u001b[43menvironment\u001b[49m\u001b[43m,\u001b[49m\n\u001b[1;32m    435\u001b[0m \u001b[43m    \u001b[49m\u001b[43mconsole\u001b[49m\u001b[38;5;241;43m=\u001b[39;49m\u001b[43mconsole\u001b[49m\u001b[43m,\u001b[49m\n\u001b[1;32m    436\u001b[0m \u001b[43m    \u001b[49m\u001b[43mmetrics\u001b[49m\u001b[38;5;241;43m=\u001b[39;49m\u001b[43mmetrics\u001b[49m\u001b[43m,\u001b[49m\n\u001b[1;32m    437\u001b[0m \u001b[43m    \u001b[49m\u001b[43mconfig_dir\u001b[49m\u001b[38;5;241;43m=\u001b[39;49m\u001b[43mPath\u001b[49m\u001b[43m(\u001b[49m\u001b[43mconfig_dir\u001b[49m\u001b[43m)\u001b[49m\u001b[43m \u001b[49m\u001b[38;5;28;43;01mif\u001b[39;49;00m\u001b[43m \u001b[49m\u001b[43mconfig_dir\u001b[49m\u001b[43m \u001b[49m\u001b[38;5;28;43;01melse\u001b[39;49;00m\u001b[43m \u001b[49m\u001b[38;5;28;43;01mNone\u001b[39;49;00m\u001b[43m,\u001b[49m\n\u001b[1;32m    438\u001b[0m \u001b[43m    \u001b[49m\u001b[43mdata_dir\u001b[49m\u001b[38;5;241;43m=\u001b[39;49m\u001b[43mPath\u001b[49m\u001b[43m(\u001b[49m\u001b[43mdata_dir\u001b[49m\u001b[43m)\u001b[49m\u001b[43m \u001b[49m\u001b[38;5;28;43;01mif\u001b[39;49;00m\u001b[43m \u001b[49m\u001b[43mdata_dir\u001b[49m\u001b[43m \u001b[49m\u001b[38;5;28;43;01melse\u001b[39;49;00m\u001b[43m \u001b[49m\u001b[38;5;28;43;01mNone\u001b[39;49;00m\u001b[43m,\u001b[49m\n\u001b[1;32m    439\u001b[0m \u001b[43m    \u001b[49m\u001b[43madditional_span_processors\u001b[49m\u001b[38;5;241;43m=\u001b[39;49m\u001b[43madditional_span_processors\u001b[49m\u001b[43m,\u001b[49m\n\u001b[1;32m    440\u001b[0m \u001b[43m    \u001b[49m\u001b[43mscrubbing\u001b[49m\u001b[38;5;241;43m=\u001b[39;49m\u001b[43mscrubbing\u001b[49m\u001b[43m,\u001b[49m\n\u001b[1;32m    441\u001b[0m \u001b[43m    \u001b[49m\u001b[43minspect_arguments\u001b[49m\u001b[38;5;241;43m=\u001b[39;49m\u001b[43minspect_arguments\u001b[49m\u001b[43m,\u001b[49m\n\u001b[1;32m    442\u001b[0m \u001b[43m    \u001b[49m\u001b[43msampling\u001b[49m\u001b[38;5;241;43m=\u001b[39;49m\u001b[43msampling\u001b[49m\u001b[43m,\u001b[49m\n\u001b[1;32m    443\u001b[0m \u001b[43m    \u001b[49m\u001b[43mcode_source\u001b[49m\u001b[38;5;241;43m=\u001b[39;49m\u001b[43mcode_source\u001b[49m\u001b[43m,\u001b[49m\n\u001b[1;32m    444\u001b[0m \u001b[43m    \u001b[49m\u001b[43mdistributed_tracing\u001b[49m\u001b[38;5;241;43m=\u001b[39;49m\u001b[43mdistributed_tracing\u001b[49m\u001b[43m,\u001b[49m\n\u001b[1;32m    445\u001b[0m \u001b[43m    \u001b[49m\u001b[43madvanced\u001b[49m\u001b[38;5;241;43m=\u001b[39;49m\u001b[43madvanced\u001b[49m\u001b[43m,\u001b[49m\n\u001b[1;32m    446\u001b[0m \u001b[43m\u001b[49m\u001b[43m)\u001b[49m\n\u001b[1;32m    448\u001b[0m \u001b[38;5;28;01mif\u001b[39;00m local:\n\u001b[1;32m    449\u001b[0m     \u001b[38;5;28;01mreturn\u001b[39;00m Logfire(config\u001b[38;5;241m=\u001b[39mconfig)\n",
      "File \u001b[0;32m~/Documents/trail/AI Agents/aiagent/lib/python3.11/site-packages/logfire/_internal/config.py:720\u001b[0m, in \u001b[0;36mLogfireConfig.configure\u001b[0;34m(self, send_to_logfire, token, service_name, service_version, environment, console, config_dir, data_dir, additional_span_processors, metrics, scrubbing, inspect_arguments, sampling, code_source, distributed_tracing, advanced)\u001b[0m\n\u001b[1;32m    701\u001b[0m \u001b[38;5;28mself\u001b[39m\u001b[38;5;241m.\u001b[39m_initialized \u001b[38;5;241m=\u001b[39m \u001b[38;5;28;01mFalse\u001b[39;00m\n\u001b[1;32m    702\u001b[0m \u001b[38;5;28mself\u001b[39m\u001b[38;5;241m.\u001b[39m_load_configuration(\n\u001b[1;32m    703\u001b[0m     send_to_logfire,\n\u001b[1;32m    704\u001b[0m     token,\n\u001b[0;32m   (...)\u001b[0m\n\u001b[1;32m    718\u001b[0m     advanced,\n\u001b[1;32m    719\u001b[0m )\n\u001b[0;32m--> 720\u001b[0m \u001b[38;5;28;43mself\u001b[39;49m\u001b[38;5;241;43m.\u001b[39;49m\u001b[43minitialize\u001b[49m\u001b[43m(\u001b[49m\u001b[43m)\u001b[49m\n",
      "File \u001b[0;32m~/Documents/trail/AI Agents/aiagent/lib/python3.11/site-packages/logfire/_internal/config.py:725\u001b[0m, in \u001b[0;36mLogfireConfig.initialize\u001b[0;34m(self)\u001b[0m\n\u001b[1;32m    723\u001b[0m \u001b[38;5;250m\u001b[39m\u001b[38;5;124;03m\"\"\"Configure internals to start exporting traces and metrics.\"\"\"\u001b[39;00m\n\u001b[1;32m    724\u001b[0m \u001b[38;5;28;01mwith\u001b[39;00m \u001b[38;5;28mself\u001b[39m\u001b[38;5;241m.\u001b[39m_lock:\n\u001b[0;32m--> 725\u001b[0m     \u001b[38;5;28;43mself\u001b[39;49m\u001b[38;5;241;43m.\u001b[39;49m\u001b[43m_initialize\u001b[49m\u001b[43m(\u001b[49m\u001b[43m)\u001b[49m\n",
      "File \u001b[0;32m~/Documents/trail/AI Agents/aiagent/lib/python3.11/site-packages/logfire/_internal/config.py:863\u001b[0m, in \u001b[0;36mLogfireConfig._initialize\u001b[0;34m(self)\u001b[0m\n\u001b[1;32m    860\u001b[0m \u001b[38;5;66;03m# if we still don't have a token, try initializing a new project and writing a new creds file\u001b[39;00m\n\u001b[1;32m    861\u001b[0m \u001b[38;5;66;03m# note, we only do this if `send_to_logfire` is explicitly `True`, not 'if-token-present'\u001b[39;00m\n\u001b[1;32m    862\u001b[0m \u001b[38;5;28;01mif\u001b[39;00m \u001b[38;5;28mself\u001b[39m\u001b[38;5;241m.\u001b[39msend_to_logfire \u001b[38;5;129;01mis\u001b[39;00m \u001b[38;5;28;01mTrue\u001b[39;00m \u001b[38;5;129;01mand\u001b[39;00m credentials \u001b[38;5;129;01mis\u001b[39;00m \u001b[38;5;28;01mNone\u001b[39;00m:\n\u001b[0;32m--> 863\u001b[0m     credentials \u001b[38;5;241m=\u001b[39m \u001b[43mLogfireCredentials\u001b[49m\u001b[38;5;241;43m.\u001b[39;49m\u001b[43minitialize_project\u001b[49m\u001b[43m(\u001b[49m\n\u001b[1;32m    864\u001b[0m \u001b[43m        \u001b[49m\u001b[43mlogfire_api_url\u001b[49m\u001b[38;5;241;43m=\u001b[39;49m\u001b[38;5;28;43mself\u001b[39;49m\u001b[38;5;241;43m.\u001b[39;49m\u001b[43madvanced\u001b[49m\u001b[38;5;241;43m.\u001b[39;49m\u001b[43mbase_url\u001b[49m\u001b[43m,\u001b[49m\n\u001b[1;32m    865\u001b[0m \u001b[43m        \u001b[49m\u001b[43msession\u001b[49m\u001b[38;5;241;43m=\u001b[39;49m\u001b[43mrequests\u001b[49m\u001b[38;5;241;43m.\u001b[39;49m\u001b[43mSession\u001b[49m\u001b[43m(\u001b[49m\u001b[43m)\u001b[49m\u001b[43m,\u001b[49m\n\u001b[1;32m    866\u001b[0m \u001b[43m    \u001b[49m\u001b[43m)\u001b[49m\n\u001b[1;32m    867\u001b[0m     credentials\u001b[38;5;241m.\u001b[39mwrite_creds_file(\u001b[38;5;28mself\u001b[39m\u001b[38;5;241m.\u001b[39mdata_dir)\n\u001b[1;32m    869\u001b[0m \u001b[38;5;28;01mif\u001b[39;00m credentials \u001b[38;5;129;01mis\u001b[39;00m \u001b[38;5;129;01mnot\u001b[39;00m \u001b[38;5;28;01mNone\u001b[39;00m:\n",
      "File \u001b[0;32m~/Documents/trail/AI Agents/aiagent/lib/python3.11/site-packages/logfire/_internal/config.py:1595\u001b[0m, in \u001b[0;36mLogfireCredentials.initialize_project\u001b[0;34m(cls, logfire_api_url, session)\u001b[0m\n\u001b[1;32m   1588\u001b[0m credentials: \u001b[38;5;28mdict\u001b[39m[\u001b[38;5;28mstr\u001b[39m, Any] \u001b[38;5;241m|\u001b[39m \u001b[38;5;28;01mNone\u001b[39;00m \u001b[38;5;241m=\u001b[39m \u001b[38;5;28;01mNone\u001b[39;00m\n\u001b[1;32m   1590\u001b[0m \u001b[38;5;28mprint\u001b[39m(\n\u001b[1;32m   1591\u001b[0m     \u001b[38;5;124m'\u001b[39m\u001b[38;5;124mNo Logfire project credentials found.\u001b[39m\u001b[38;5;130;01m\\n\u001b[39;00m\u001b[38;5;124m'\u001b[39m  \u001b[38;5;66;03m# TODO: Add a link to the docs about where we look\u001b[39;00m\n\u001b[1;32m   1592\u001b[0m     \u001b[38;5;124m'\u001b[39m\u001b[38;5;124mAll data sent to Logfire must be associated with a project.\u001b[39m\u001b[38;5;130;01m\\n\u001b[39;00m\u001b[38;5;124m'\u001b[39m\n\u001b[1;32m   1593\u001b[0m )\n\u001b[0;32m-> 1595\u001b[0m projects \u001b[38;5;241m=\u001b[39m \u001b[38;5;28;43mcls\u001b[39;49m\u001b[38;5;241;43m.\u001b[39;49m\u001b[43mget_user_projects\u001b[49m\u001b[43m(\u001b[49m\u001b[43msession\u001b[49m\u001b[38;5;241;43m=\u001b[39;49m\u001b[43msession\u001b[49m\u001b[43m,\u001b[49m\u001b[43m \u001b[49m\u001b[43mlogfire_api_url\u001b[49m\u001b[38;5;241;43m=\u001b[39;49m\u001b[43mlogfire_api_url\u001b[49m\u001b[43m)\u001b[49m\n\u001b[1;32m   1596\u001b[0m \u001b[38;5;28;01mif\u001b[39;00m projects:\n\u001b[1;32m   1597\u001b[0m     use_existing_projects \u001b[38;5;241m=\u001b[39m Confirm\u001b[38;5;241m.\u001b[39mask(\u001b[38;5;124m'\u001b[39m\u001b[38;5;124mDo you want to use one of your existing projects? \u001b[39m\u001b[38;5;124m'\u001b[39m, default\u001b[38;5;241m=\u001b[39m\u001b[38;5;28;01mTrue\u001b[39;00m)\n",
      "File \u001b[0;32m~/Documents/trail/AI Agents/aiagent/lib/python3.11/site-packages/logfire/_internal/config.py:1342\u001b[0m, in \u001b[0;36mLogfireCredentials.get_user_projects\u001b[0;34m(cls, session, logfire_api_url)\u001b[0m\n\u001b[1;32m   1328\u001b[0m \u001b[38;5;129m@classmethod\u001b[39m\n\u001b[1;32m   1329\u001b[0m \u001b[38;5;28;01mdef\u001b[39;00m\u001b[38;5;250m \u001b[39m\u001b[38;5;21mget_user_projects\u001b[39m(\u001b[38;5;28mcls\u001b[39m, session: requests\u001b[38;5;241m.\u001b[39mSession, logfire_api_url: \u001b[38;5;28mstr\u001b[39m) \u001b[38;5;241m-\u001b[39m\u001b[38;5;241m>\u001b[39m \u001b[38;5;28mlist\u001b[39m[\u001b[38;5;28mdict\u001b[39m[\u001b[38;5;28mstr\u001b[39m, Any]]:\n\u001b[1;32m   1330\u001b[0m \u001b[38;5;250m    \u001b[39m\u001b[38;5;124;03m\"\"\"Get list of projects that user has access to them.\u001b[39;00m\n\u001b[1;32m   1331\u001b[0m \n\u001b[1;32m   1332\u001b[0m \u001b[38;5;124;03m    Args:\u001b[39;00m\n\u001b[0;32m   (...)\u001b[0m\n\u001b[1;32m   1340\u001b[0m \u001b[38;5;124;03m        LogfireConfigError: If there was an error retrieving user projects.\u001b[39;00m\n\u001b[1;32m   1341\u001b[0m \u001b[38;5;124;03m    \"\"\"\u001b[39;00m\n\u001b[0;32m-> 1342\u001b[0m     user_token \u001b[38;5;241m=\u001b[39m \u001b[38;5;28;43mcls\u001b[39;49m\u001b[38;5;241;43m.\u001b[39;49m\u001b[43m_get_user_token\u001b[49m\u001b[43m(\u001b[49m\u001b[43mlogfire_api_url\u001b[49m\u001b[38;5;241;43m=\u001b[39;49m\u001b[43mlogfire_api_url\u001b[49m\u001b[43m)\u001b[49m\n\u001b[1;32m   1343\u001b[0m     headers \u001b[38;5;241m=\u001b[39m {\u001b[38;5;241m*\u001b[39m\u001b[38;5;241m*\u001b[39mCOMMON_REQUEST_HEADERS, \u001b[38;5;124m'\u001b[39m\u001b[38;5;124mAuthorization\u001b[39m\u001b[38;5;124m'\u001b[39m: user_token}\n\u001b[1;32m   1344\u001b[0m     projects_url \u001b[38;5;241m=\u001b[39m urljoin(logfire_api_url, \u001b[38;5;124m'\u001b[39m\u001b[38;5;124m/v1/projects/\u001b[39m\u001b[38;5;124m'\u001b[39m)\n",
      "File \u001b[0;32m~/Documents/trail/AI Agents/aiagent/lib/python3.11/site-packages/logfire/_internal/config.py:1301\u001b[0m, in \u001b[0;36mLogfireCredentials._get_user_token\u001b[0;34m(cls, logfire_api_url)\u001b[0m\n\u001b[1;32m   1299\u001b[0m             \u001b[38;5;28;01mif\u001b[39;00m is_logged_in(data, logfire_api_url):  \u001b[38;5;66;03m# pragma: no branch\u001b[39;00m\n\u001b[1;32m   1300\u001b[0m                 \u001b[38;5;28;01mreturn\u001b[39;00m data[\u001b[38;5;124m'\u001b[39m\u001b[38;5;124mtokens\u001b[39m\u001b[38;5;124m'\u001b[39m][logfire_api_url][\u001b[38;5;124m'\u001b[39m\u001b[38;5;124mtoken\u001b[39m\u001b[38;5;124m'\u001b[39m]\n\u001b[0;32m-> 1301\u001b[0m         \u001b[38;5;28;01mraise\u001b[39;00m LogfireConfigError(\n\u001b[1;32m   1302\u001b[0m \u001b[38;5;250m            \u001b[39m\u001b[38;5;124;03m\"\"\"You are not authenticated. Please run `logfire auth` to authenticate.\u001b[39;00m\n\u001b[1;32m   1303\u001b[0m \n\u001b[1;32m   1304\u001b[0m \u001b[38;5;124;03mIf you are running in production, you can set the `LOGFIRE_TOKEN` environment variable.\u001b[39;00m\n\u001b[1;32m   1305\u001b[0m \u001b[38;5;124;03mTo create a write token, refer to https://logfire.pydantic.dev/docs/guides/advanced/creating_write_tokens/\u001b[39;00m\n\u001b[1;32m   1306\u001b[0m \u001b[38;5;124;03m\"\"\"\u001b[39;00m\n\u001b[1;32m   1307\u001b[0m         )\n",
      "\u001b[0;31mLogfireConfigError\u001b[0m: You are not authenticated. Please run `logfire auth` to authenticate.\n\nIf you are running in production, you can set the `LOGFIRE_TOKEN` environment variable.\nTo create a write token, refer to https://logfire.pydantic.dev/docs/guides/advanced/creating_write_tokens/\n"
     ]
    }
   ],
   "source": [
    "from pydantic_ai import Agent\n",
    "import os\n",
    "from dotenv import load_dotenv\n",
    "import logfire\n",
    "\n",
    "# Load environment variables\n",
    "load_dotenv()\n",
    "os.environ[\"GEMINI_API_KEY\"] = os.getenv(\"GEMINI_API_KEY\")\n",
    "\n",
    "# Configure Logfire for logging\n",
    "logfire.configure()\n",
    "logfire.instrument_httpx(capture_all=True)  \n",
    "os.environ[\"LOGFIRE_TOKEN\"]=os.getenv(\"LOGFIRE_TOKEN\")\n",
    "# Define the first agent\n",
    "agent_1 = Agent(  \n",
    "    'gemini-2.0-flash-exp',\n",
    "    system_prompt='Be funny, reply with one sentence.',  \n",
    ")\n",
    "\n",
    "import nest_asyncio\n",
    "nest_asyncio.apply()\n",
    "\n",
    "\n",
    "result_1 = agent_1.run_sync('What is Pythagoras theorem?')  \n",
    "print(result_1.data)\n",
    "\n",
    "# Logfire logging for better visualization\n",
    "logfire.log(\"Pythagoras theorem response\", result_1.data)\n",
    "\n",
    "# Define the second agent\n",
    "agent_2 = Agent(\n",
    "    'gemini-2.0-flash-exp',\n",
    "    system_prompt='Be funny, reply with one sentence.',  \n",
    ")\n",
    "result_2 = agent_2.run_sync('What is the capital of France?')\n",
    "print(result_2.data)\n",
    "\n",
    "# Logfire logging\n",
    "logfire.log(\"Capital of France response\", result_2.data)"
   ]
  }
 ],
 "metadata": {
  "kernelspec": {
   "display_name": "Python 3",
   "language": "python",
   "name": "python3"
  },
  "language_info": {
   "codemirror_mode": {
    "name": "ipython",
    "version": 3
   },
   "file_extension": ".py",
   "mimetype": "text/x-python",
   "name": "python",
   "nbconvert_exporter": "python",
   "pygments_lexer": "ipython3",
   "version": "3.11.0"
  }
 },
 "nbformat": 4,
 "nbformat_minor": 2
}
