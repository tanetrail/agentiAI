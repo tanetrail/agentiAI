{
 "cells": [
  {
   "cell_type": "markdown",
   "metadata": {},
   "source": [
    "## Evaluator - Optimizer Workflow\n",
    "\n",
    "## Here one LLM call generates the response while another provides evaluation and feedback loop\n",
    "\n",
    "## Usecase : Realtime database updates"
   ]
  },
  {
   "cell_type": "code",
   "execution_count": 1,
   "metadata": {},
   "outputs": [
    {
     "name": "stderr",
     "output_type": "stream",
     "text": [
      "/Users/ips/Documents/trail/AI Agents/aiagent/lib/python3.11/site-packages/tqdm/auto.py:21: TqdmWarning: IProgress not found. Please update jupyter and ipywidgets. See https://ipywidgets.readthedocs.io/en/stable/user_install.html\n",
      "  from .autonotebook import tqdm as notebook_tqdm\n"
     ]
    }
   ],
   "source": [
    "import os\n",
    "from dotenv import load_dotenv\n",
    "from datetime import datetime\n",
    "\n",
    "load_dotenv()\n",
    "\n",
    "os.environ[\"GOOGLE_API_KEY\"] = os.getenv(\"GEMINI_API_KEY\")\n",
    "\n",
    "from langchain_google_genai import ChatGoogleGenerativeAI\n",
    "llm = ChatGoogleGenerativeAI(model=\"gemini-2.0-flash-exp\")\n"
   ]
  },
  {
   "cell_type": "code",
   "execution_count": 4,
   "metadata": {},
   "outputs": [],
   "source": [
    "list_of_compliants = [\"my phone network is week\", \"My interneet is slow\", \"my bill is high\", \"i want to cancel my internet plan\", \"patry tonight\"]\n",
    "\n",
    "category_of_compliant = [\"Network\",\"Internet\",\"Billing\",\"Internet Plan\",\"Cancellation\"]"
   ]
  },
  {
   "cell_type": "code",
   "execution_count": 5,
   "metadata": {},
   "outputs": [
    {
     "name": "stderr",
     "output_type": "stream",
     "text": [
      "Retrying langchain_google_genai.chat_models._chat_with_retry.<locals>._chat_with_retry in 2.0 seconds as it raised ResourceExhausted: 429 Resource has been exhausted (e.g. check quota)..\n"
     ]
    },
    {
     "name": "stdout",
     "output_type": "stream",
     "text": [
      "Compliant : my phone network is week\n",
      "Classified Category: Network\n",
      "Evaluatin Feedback : True\n",
      "Compliant : My interneet is slow\n",
      "Classified Category: Internet\n",
      "Evaluatin Feedback : True\n",
      "Compliant : my bill is high\n",
      "Classified Category: Billing\n",
      "Evaluatin Feedback : True\n",
      "Compliant : i want to cancel my internet plan\n",
      "Classified Category: Cancellation\n",
      "Evaluatin Feedback : True\n",
      "Compliant : patry tonight\n",
      "Classified Category: None\n",
      "Evaluatin Feedback : True\n"
     ]
    }
   ],
   "source": [
    "for compliant in list_of_compliants:\n",
    "    # first LLM Call - Categorize compliant into category\n",
    "    main_prompt=f\"\"\"\n",
    "    You are a customer service agent. You need to classify the compliant into one of the categories.\n",
    "\n",
    "    Compliants:{compliant}\n",
    "\n",
    "    Categories:{category_of_compliant}\n",
    "\n",
    "    Always return the category in the list of categories if found else retrun none\n",
    "\n",
    "    return the category in this XML format(only the category nothing else(no explanation, no other text)):\n",
    "\n",
    "    <category>\n",
    "    Category\n",
    "    </category>\n",
    "    \"\"\"\n",
    "\n",
    "    print(f\"Compliant : {compliant}\")\n",
    "    classification_response = llm.invoke(main_prompt)\n",
    "    category = classification_response.content.strip(\"```xml\\n<\").strip(\"</category>\").strip(\"\\n\")\n",
    "    print(f\"Classified Category: {category}\")\n",
    "\n",
    "    ## Second LLM Call - Evaluate Classification\n",
    "    evaluator_prompt=f\"\"\"\n",
    "    Context -\n",
    "    The previous LLM call has classified the compliant into one of the categories.\n",
    "\n",
    "    You are a feedback generator. You need to evaluate the response of the LLM and give feedback on the response in 0 or 1\n",
    "\n",
    "    Compliant: {compliant}\n",
    "    Category: {category}\n",
    "\n",
    "    List of Categories to select from: {category_of_compliant}\n",
    "\n",
    "    if no categories are found in the list of categories, return 0 or false\n",
    "\n",
    "    return the feedback(True or False)\n",
    "\n",
    "    Only return True or False no other text or explanation\n",
    "    \"\"\"\n",
    "\n",
    "    evaluation_response = llm.invoke(evaluator_prompt)\n",
    "    feedback = evaluation_response.content\n",
    "    print(f\"Evaluatin Feedback : {feedback}\")\n",
    "    \n",
    "    \n"
   ]
  }
 ],
 "metadata": {
  "kernelspec": {
   "display_name": "Python 3",
   "language": "python",
   "name": "python3"
  },
  "language_info": {
   "codemirror_mode": {
    "name": "ipython",
    "version": 3
   },
   "file_extension": ".py",
   "mimetype": "text/x-python",
   "name": "python",
   "nbconvert_exporter": "python",
   "pygments_lexer": "ipython3",
   "version": "3.11.0"
  }
 },
 "nbformat": 4,
 "nbformat_minor": 2
}
