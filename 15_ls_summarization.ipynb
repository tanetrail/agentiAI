{
 "cells": [
  {
   "cell_type": "code",
   "execution_count": 2,
   "metadata": {},
   "outputs": [],
   "source": [
    "## Langsmith is a tool for monitoring and analyzing LLM applications.\n",
    "\n",
    "import os\n",
    "from dotenv import load_dotenv\n",
    "from datetime import datetime\n",
    "\n",
    "load_dotenv()\n",
    "\n",
    "os.environ[\"GOOGLE_API_KEY\"] = os.getenv(\"GEMINI_API_KEY\")\n",
    "\n",
    "from langchain_google_genai import ChatGoogleGenerativeAI\n",
    "llm = ChatGoogleGenerativeAI(model=\"gemini-2.0-flash-exp\")\n",
    "\n",
    "os.environ[\"LANGSMITH_TRACING\"]=\"true\"\n",
    "os.environ[\"LANGSMITH_ENDPOINT\"]=\"https://api.smith.langchain.com\"\n",
    "os.environ[\"LANGSMITH_API_KEY\"]=os.getenv(\"LANGSMITH_API_KEY\")\n",
    "os.environ[\"LANGSMITH_PROJECT\"]=\"test-project\""
   ]
  },
  {
   "cell_type": "code",
   "execution_count": 3,
   "metadata": {},
   "outputs": [
    {
     "data": {
      "text/plain": [
       "AIMessage(content='No', additional_kwargs={}, response_metadata={'prompt_feedback': {'block_reason': 0, 'safety_ratings': []}, 'finish_reason': 'STOP', 'safety_ratings': []}, id='run-816275bb-5581-446a-ab24-bcd98b901d67-0', usage_metadata={'input_tokens': 16, 'output_tokens': 2, 'total_tokens': 18, 'input_token_details': {'cache_read': 0}})"
      ]
     },
     "execution_count": 3,
     "metadata": {},
     "output_type": "execute_result"
    }
   ],
   "source": [
    "llm.invoke(\"What is AI, can it replace human coders answer only yes or no?\")"
   ]
  },
  {
   "cell_type": "code",
   "execution_count": null,
   "metadata": {},
   "outputs": [],
   "source": [
    "# Display image in Jupyter notebook\n",
    "# from IPython.display import display, Image\n",
    "\n",
    "# path = \"lecture_15_langsmith.PNG\"\n",
    "# display(Image(filename=path))  # display image"
   ]
  },
  {
   "cell_type": "code",
   "execution_count": 5,
   "metadata": {},
   "outputs": [
    {
     "name": "stdout",
     "output_type": "stream",
     "text": [
      "The current count is:  1\n",
      "This is the messages: after count 1 ['user: indian food', \"ai: Okay! Indian food is a vast and diverse cuisine with a rich history and tons of regional variations. To give you the best recommendations, I need a little more information about what you're looking for. Tell me more about what you're interested in:\\n\\n**1. What are you in the mood for?**\\n\\n*   **Specific dishes:** Are you craving something specific like Butter Chicken, Biryani, Samosas, or something else?\\n*   **Type of meal:** Are you looking for a quick snack, a casual lunch, or a fancy dinner?\\n*   **Spice level:** Do you prefer mild, medium, or spicy food?\\n*   **Dietary restrictions/preferences:** Are you vegetarian, vegan, gluten-free, or have any other dietary needs?\\n\\n**2. What kind of information are you looking for?**\\n\\n*   **Recipes:** Are you looking to cook Indian food at home? If so, what level of cooking experience do you have?\\n*   **Restaurant recommendations:** Are you looking for a good Indian restaurant in a specific location? If so, tell me your location!\\n*   **Information about Indian cuisine:** Are you interested in learning more about the history, ingredients, or regional variations of Indian food?\\n*   **Something else entirely?**\\n\\n**In the meantime, here are some general facts about Indian food:**\\n\\n*   **Regional Diversity:** Indian cuisine varies greatly depending on the region. North Indian food often features rich curries, tandoori dishes, and breads like naan. South Indian food often uses rice, lentils, and spices like curry leaves and mustard seeds, with dishes like dosas, idlis, and sambar. East Indian food is known for its seafood and sweets, while West Indian food includes a mix of vegetarian and non-vegetarian dishes with influences from different cultures.\\n*   **Key Ingredients:** Common ingredients include rice, wheat flour, lentils, vegetables, and a wide variety of spices.\\n*   **Spices:** Spices are essential to Indian cuisine and include turmeric, cumin, coriander, ginger, garlic, chili peppers, cardamom, cinnamon, and cloves.\\n*   **Cooking Methods:** Common cooking methods include grilling in a tandoor oven, frying, simmering in curries, and steaming.\\n\\nI'm ready to help you explore the world of Indian food! Just give me a little more information.\"]\n",
      "The current count is:  2\n",
      "This is the messages: after count 2 ['user: indian food', \"ai: Okay! Indian food is a vast and diverse cuisine with a rich history and tons of regional variations. To give you the best recommendations, I need a little more information about what you're looking for. Tell me more about what you're interested in:\\n\\n**1. What are you in the mood for?**\\n\\n*   **Specific dishes:** Are you craving something specific like Butter Chicken, Biryani, Samosas, or something else?\\n*   **Type of meal:** Are you looking for a quick snack, a casual lunch, or a fancy dinner?\\n*   **Spice level:** Do you prefer mild, medium, or spicy food?\\n*   **Dietary restrictions/preferences:** Are you vegetarian, vegan, gluten-free, or have any other dietary needs?\\n\\n**2. What kind of information are you looking for?**\\n\\n*   **Recipes:** Are you looking to cook Indian food at home? If so, what level of cooking experience do you have?\\n*   **Restaurant recommendations:** Are you looking for a good Indian restaurant in a specific location? If so, tell me your location!\\n*   **Information about Indian cuisine:** Are you interested in learning more about the history, ingredients, or regional variations of Indian food?\\n*   **Something else entirely?**\\n\\n**In the meantime, here are some general facts about Indian food:**\\n\\n*   **Regional Diversity:** Indian cuisine varies greatly depending on the region. North Indian food often features rich curries, tandoori dishes, and breads like naan. South Indian food often uses rice, lentils, and spices like curry leaves and mustard seeds, with dishes like dosas, idlis, and sambar. East Indian food is known for its seafood and sweets, while West Indian food includes a mix of vegetarian and non-vegetarian dishes with influences from different cultures.\\n*   **Key Ingredients:** Common ingredients include rice, wheat flour, lentils, vegetables, and a wide variety of spices.\\n*   **Spices:** Spices are essential to Indian cuisine and include turmeric, cumin, coriander, ginger, garlic, chili peppers, cardamom, cinnamon, and cloves.\\n*   **Cooking Methods:** Common cooking methods include grilling in a tandoor oven, frying, simmering in curries, and steaming.\\n\\nI'm ready to help you explore the world of Indian food! Just give me a little more information.\", 'user: indian food and ai', \"ai: AI can play a fascinating role in the world of Indian food! Here are a few ways AI is and can be used:\\n\\n*   **Recipe Generation and Optimization:** AI can analyze vast databases of recipes, ingredients, and flavor pairings to generate new and exciting Indian dishes. It can also optimize existing recipes based on factors like ingredient availability, nutritional value, and desired spice levels. Imagine an AI suggesting a unique twist on your favorite biryani, incorporating seasonal vegetables or a novel spice blend!\\n\\n*   **Personalized Recipe Recommendations:** AI can learn your individual preferences (e.g., spice tolerance, dietary restrictions, favorite ingredients) and recommend Indian recipes that are perfectly tailored to your taste. No more endless scrolling through cookbooks – AI can curate a personalized menu just for you.\\n\\n*   **Restaurant Recommendations:** AI-powered apps can use your location, reviews, and preferences to suggest the best Indian restaurants in your area. They can filter by cuisine type (e.g., North Indian, South Indian), price range, and ambiance, ensuring you find the perfect dining experience.\\n\\n*   **Automated Cooking Devices:** AI can be integrated into smart cooking appliances to automate the process of preparing Indian dishes. Imagine a rice cooker that automatically adjusts cooking time based on the type of rice you're using, or a slow cooker that monitors temperature and adjusts cooking time to ensure your dal is perfectly tender.\\n\\n*   **Food Safety and Quality Control:** AI can be used to monitor food safety and quality in Indian restaurants and food processing plants. Computer vision and machine learning algorithms can detect contaminants, spoilage, and other issues, ensuring that the food you eat is safe and of high quality.\\n\\n*   **Language Translation for Recipes:** AI-powered translation tools can make Indian recipes accessible to a wider audience, regardless of their native language.\\n\\n*   **Understanding Regional Variations:** AI can help analyze and categorize the vast regional variations of Indian cuisine, providing insights into the history, ingredients, and cooking techniques of different regions.\\n\\n*   **Customer Service and Ordering:** AI-powered chatbots can assist customers with ordering Indian food online or over the phone, answering questions about the menu, and providing recommendations.\\n\\n**Potential Future Applications:**\\n\\n*   **Virtual Cooking Classes:** AI could guide you through the process of preparing Indian dishes in real-time, providing personalized feedback and tips.\\n*   **Flavor Prediction:** AI could predict how different ingredients and spices will interact with each other, allowing chefs to create innovative and harmonious flavor combinations.\\n*   **Sustainable Food Sourcing:** AI could help optimize the sourcing of ingredients for Indian cuisine, promoting sustainable farming practices and reducing food waste.\\n\\nIn short, AI has the potential to revolutionize the way we experience Indian food, from cooking at home to dining out to learning about the rich history and culture of this amazing cuisine.\"]\n",
      "The current count is:  3\n",
      "Last 3 messages:  ['user: indian food and ai', \"ai: AI can play a fascinating role in the world of Indian food! Here are a few ways AI is and can be used:\\n\\n*   **Recipe Generation and Optimization:** AI can analyze vast databases of recipes, ingredients, and flavor pairings to generate new and exciting Indian dishes. It can also optimize existing recipes based on factors like ingredient availability, nutritional value, and desired spice levels. Imagine an AI suggesting a unique twist on your favorite biryani, incorporating seasonal vegetables or a novel spice blend!\\n\\n*   **Personalized Recipe Recommendations:** AI can learn your individual preferences (e.g., spice tolerance, dietary restrictions, favorite ingredients) and recommend Indian recipes that are perfectly tailored to your taste. No more endless scrolling through cookbooks – AI can curate a personalized menu just for you.\\n\\n*   **Restaurant Recommendations:** AI-powered apps can use your location, reviews, and preferences to suggest the best Indian restaurants in your area. They can filter by cuisine type (e.g., North Indian, South Indian), price range, and ambiance, ensuring you find the perfect dining experience.\\n\\n*   **Automated Cooking Devices:** AI can be integrated into smart cooking appliances to automate the process of preparing Indian dishes. Imagine a rice cooker that automatically adjusts cooking time based on the type of rice you're using, or a slow cooker that monitors temperature and adjusts cooking time to ensure your dal is perfectly tender.\\n\\n*   **Food Safety and Quality Control:** AI can be used to monitor food safety and quality in Indian restaurants and food processing plants. Computer vision and machine learning algorithms can detect contaminants, spoilage, and other issues, ensuring that the food you eat is safe and of high quality.\\n\\n*   **Language Translation for Recipes:** AI-powered translation tools can make Indian recipes accessible to a wider audience, regardless of their native language.\\n\\n*   **Understanding Regional Variations:** AI can help analyze and categorize the vast regional variations of Indian cuisine, providing insights into the history, ingredients, and cooking techniques of different regions.\\n\\n*   **Customer Service and Ordering:** AI-powered chatbots can assist customers with ordering Indian food online or over the phone, answering questions about the menu, and providing recommendations.\\n\\n**Potential Future Applications:**\\n\\n*   **Virtual Cooking Classes:** AI could guide you through the process of preparing Indian dishes in real-time, providing personalized feedback and tips.\\n*   **Flavor Prediction:** AI could predict how different ingredients and spices will interact with each other, allowing chefs to create innovative and harmonious flavor combinations.\\n*   **Sustainable Food Sourcing:** AI could help optimize the sourcing of ingredients for Indian cuisine, promoting sustainable farming practices and reducing food waste.\\n\\nIn short, AI has the potential to revolutionize the way we experience Indian food, from cooking at home to dining out to learning about the rich history and culture of this amazing cuisine.\", 'user: can it prepare food']\n",
      "Summary:  content='The conversation started with the user asking about \"Indian food and AI.\" The AI responded with a detailed explanation of how AI can be used in various aspects of Indian food, including recipe generation, personalized recommendations, restaurant suggestions, automated cooking devices, food safety, language translation, understanding regional variations, and customer service. It also mentioned potential future applications like virtual cooking classes, flavor prediction, and sustainable food sourcing. The user then simply asked, \"can it prepare food?\"' additional_kwargs={} response_metadata={'prompt_feedback': {'block_reason': 0, 'safety_ratings': []}, 'finish_reason': 'STOP', 'safety_ratings': []} id='run-e76f412d-e22b-4f7c-85f0-656f688fa532-0' usage_metadata={'input_tokens': 625, 'output_tokens': 94, 'total_tokens': 719, 'input_token_details': {'cache_read': 0}}\n",
      "This is the messages: after count 3 ['Here is the summary of the conversation so far: The conversation started with the user asking about \"Indian food and AI.\" The AI responded with a detailed explanation of how AI can be used in various aspects of Indian food, including recipe generation, personalized recommendations, restaurant suggestions, automated cooking devices, food safety, language translation, understanding regional variations, and customer service. It also mentioned potential future applications like virtual cooking classes, flavor prediction, and sustainable food sourcing. The user then simply asked, \"can it prepare food?\"Here is current question: can it prepare food', 'ai: Okay, given the context, the answer to \"can it prepare food?\" should be nuanced.\\n\\n**Response:**\\n\\nCurrently, AI itself cannot physically prepare food. AI is a software and data-driven technology. It can control robots and automated systems that *can* prepare food, but AI is not the device itself. Think of it like this: AI can be the brain, but it needs a body (a robot or automated cooking device) to act.\\n\\nSo, the answer is:\\n\\n*   **No, AI itself cannot physically prepare food.** It requires a physical system (like a robot or smart appliance) to do so.\\n*   **Yes, AI can *control* systems that prepare food.** AI can instruct and manage robotic chefs, smart ovens, and other automated cooking devices.\\n\\nTherefore, AI is involved in the preparation of food, but it doesn\\'t do the actual cooking itself.']\n",
      "The current count is:  4\n",
      "This is the messages: after count 4 ['Here is the summary of the conversation so far: The conversation started with the user asking about \"Indian food and AI.\" The AI responded with a detailed explanation of how AI can be used in various aspects of Indian food, including recipe generation, personalized recommendations, restaurant suggestions, automated cooking devices, food safety, language translation, understanding regional variations, and customer service. It also mentioned potential future applications like virtual cooking classes, flavor prediction, and sustainable food sourcing. The user then simply asked, \"can it prepare food?\"Here is current question: can it prepare food', 'ai: Okay, given the context, the answer to \"can it prepare food?\" should be nuanced.\\n\\n**Response:**\\n\\nCurrently, AI itself cannot physically prepare food. AI is a software and data-driven technology. It can control robots and automated systems that *can* prepare food, but AI is not the device itself. Think of it like this: AI can be the brain, but it needs a body (a robot or automated cooking device) to act.\\n\\nSo, the answer is:\\n\\n*   **No, AI itself cannot physically prepare food.** It requires a physical system (like a robot or smart appliance) to do so.\\n*   **Yes, AI can *control* systems that prepare food.** AI can instruct and manage robotic chefs, smart ovens, and other automated cooking devices.\\n\\nTherefore, AI is involved in the preparation of food, but it doesn\\'t do the actual cooking itself.', 'user: tution', 'ai: Okay, I understand. You\\'ve typed \"tution.\" I\\'m assuming you meant \"tuition.\"\\n\\n**How can I help you with tuition?** To give you the best answer, please clarify what you\\'d like to know. For example, are you looking for:\\n\\n*   **Information about tuition costs?** (e.g., \"What\\'s the average tuition for college?\", \"Tuition costs at [specific school]\")\\n*   **Ways to pay for tuition?** (e.g., \"How can I get a student loan?\", \"Scholarships for [field of study]\", \"Payment plans for tuition\")\\n*   **Information about tuition centers or tutoring (which are also sometimes called \"tuition\")?** (e.g., \"Tuition centers near me\", \"Best math tutors online\")\\n*   **Something else related to \"tuition\"?**\\n\\nThe more information you provide, the better I can assist you.']\n"
     ]
    }
   ],
   "source": [
    "# This is a simple summarization feature which will help you summarize the conversation and save on tokens and retain the context of the conversation.\n",
    "\n",
    "# Summarization\n",
    "\n",
    "count=0\n",
    "messages=[]\n",
    "while True:\n",
    "    user_input = input(\"please enter your question:  \")\n",
    "    if user_input == \"exit\" or user_input == \"q\":\n",
    "        break\n",
    "    count+=1\n",
    "    print(\"The current count is: \",count)\n",
    "    messages.append(\"user: \"+user_input)\n",
    "\n",
    "    if count % 3 == 0:\n",
    "        last_3_messages = messages[-3:]\n",
    "        print(\"Last 3 messages: \",last_3_messages)\n",
    "\n",
    "        #remove all last messages\n",
    "        messages = []\n",
    "        \n",
    "        prompt = f\"Summarize the conversation so far: {last_3_messages}\"\n",
    "        summary = llm.invoke(prompt)\n",
    "        print(\"Summary: \",summary)\n",
    "        messages.append(\"Here is the summary of the conversation so far: \"+summary.content+\"Here is current question: \"+user_input)\n",
    "\n",
    "\n",
    "    ai_response = llm.invoke(messages)\n",
    "    messages.append(\"ai: \"+ai_response.content)\n",
    "\n",
    "    print(\"This is the messages: after count\",count,messages)\n"
   ]
  }
 ],
 "metadata": {
  "kernelspec": {
   "display_name": "Python 3",
   "language": "python",
   "name": "python3"
  },
  "language_info": {
   "codemirror_mode": {
    "name": "ipython",
    "version": 3
   },
   "file_extension": ".py",
   "mimetype": "text/x-python",
   "name": "python",
   "nbconvert_exporter": "python",
   "pygments_lexer": "ipython3",
   "version": "3.11.0"
  }
 },
 "nbformat": 4,
 "nbformat_minor": 2
}
