{
 "cells": [
  {
   "cell_type": "code",
   "execution_count": 46,
   "metadata": {},
   "outputs": [],
   "source": [
    "import os\n",
    "from dotenv import load_dotenv\n",
    "from datetime import datetime\n",
    "\n",
    "load_dotenv()\n",
    "\n",
    "os.environ[\"GOOGLE_API_KEY\"] = os.getenv(\"GEMINI_API_KEY\")\n",
    "\n",
    "from langchain_google_genai import ChatGoogleGenerativeAI\n",
    "llm = ChatGoogleGenerativeAI(model=\"gemini-2.0-flash-exp\")"
   ]
  },
  {
   "cell_type": "code",
   "execution_count": 47,
   "metadata": {},
   "outputs": [],
   "source": [
    "from typing import Annotated\n",
    "import operator,json\n",
    "from typing import TypedDict, Annotated, Sequence\n",
    "from typing_extensions import TypedDict\n",
    "from langchain_core.messages import BaseMessage\n",
    "from langgraph.checkpoint.memory import MemorySaver\n",
    "from langgraph.graph import StateGraph,END,START\n",
    "from langgraph.graph.message import add_messages\n",
    "from langgraph.prebuilt import ToolNode, tools_condition\n",
    "from langchain_core.tools import tool\n",
    "from langchain_community.tools.tavily_search import TavilySearchResults"
   ]
  },
  {
   "cell_type": "code",
   "execution_count": 48,
   "metadata": {},
   "outputs": [
    {
     "data": {
      "text/plain": [
       "AIMessage(content='Hi there! How can I help you today?', additional_kwargs={}, response_metadata={'prompt_feedback': {'block_reason': 0, 'safety_ratings': []}, 'finish_reason': 'STOP', 'safety_ratings': []}, id='run-22c77023-1c08-4b44-9b5b-bce3333a2dba-0', usage_metadata={'input_tokens': 1, 'output_tokens': 11, 'total_tokens': 12, 'input_token_details': {'cache_read': 0}})"
      ]
     },
     "execution_count": 48,
     "metadata": {},
     "output_type": "execute_result"
    }
   ],
   "source": [
    "\n",
    "llm.invoke(\"hi\")"
   ]
  },
  {
   "cell_type": "code",
   "execution_count": 4,
   "metadata": {},
   "outputs": [
    {
     "data": {
      "text/plain": [
       "'Hi there! How can I help you today?'"
      ]
     },
     "execution_count": 4,
     "metadata": {},
     "output_type": "execute_result"
    }
   ],
   "source": [
    "llm.invoke(\"hi\").content"
   ]
  },
  {
   "cell_type": "code",
   "execution_count": 49,
   "metadata": {},
   "outputs": [
    {
     "data": {
      "text/plain": [
       "8736"
      ]
     },
     "execution_count": 49,
     "metadata": {},
     "output_type": "execute_result"
    }
   ],
   "source": [
    "@tool\n",
    "def multiply(first_number:int, second_number:int)->int:\n",
    "    \"\"\"multiply two integer number\"\"\"\n",
    "    return first_number * second_number\n",
    "\n",
    "\n",
    "multiply({\"first_number\":24,\"second_number\":364})"
   ]
  },
  {
   "cell_type": "code",
   "execution_count": 50,
   "metadata": {},
   "outputs": [
    {
     "data": {
      "text/plain": [
       "[{'url': 'https://www.usa.gov/presidents',\n",
       "  'content': 'Presidents, vice presidents, and first ladies | USAGov An official website of the United States government A .gov website belongs to an official government organization in the United States. Learn about the duties of president, vice president, and first lady of the United States. President of the United States The president of the United States is the: Former U.S. presidents The United States has had 46 former U.S. presidents. Vice president of the United States The vice president of the United States presides over the U.S. Senate and takes over the role of president of the United States if the president is unable to perform their duties. The 50th and current vice president of the United States is James David (JD) Vance.'},\n",
       " {'url': 'https://www.whitehouse.gov/administration/',\n",
       "  'content': 'The Trump Administration Search Search for:  Press Enter to Search Trump 45th & 47th President of the United States After a landslide election victory in 2024, President Donald J. Vice President of the United States In 2024, President Donald J. JD looks forward to serving with President Trump over the next four years as they work diligently to Make America Great Again. Melania Trump FIRST Lady of the United States First Lady Melania Trump is the wife of the 45th and 47th President, Donald J. SECOND Lady of the United States Second Lady Usha Vance is the proud wife of Vice President JD Vance and the mother of their three beautiful children, Ewan, Vivek, and Mirabel. President Trump’s Team'},\n",
       " {'url': 'https://www.whitehouse.gov/',\n",
       "  'content': 'The White House Administration The White House President Donald J. Trump Search Administration Search for:  Press Enter to Search America Is Back This will truly be the golden age of America. The Administration Trump President of the United States VICE PRESIDENT OF THE UNITED STATES Melania Trump First Lady OF THE UNITED STATES Of the 47th Administration President Trump is committed to lowering costs for all Americans, securing our borders, unleashing American energy dominance, restoring peace through strength, and making all Americans safe and secure once again. Get direct updates from The White House in your inbox. The White house THE WHITE HOUSE Administration The White House 1600 Pennsylvania Ave NW'},\n",
       " {'url': 'https://usun.usmission.gov/our-leaders/the-president-of-the-united-states/',\n",
       "  'content': 'President of the United States - United States Mission to the United Nations United States Mission to the United Nations U.S. Mission Leaders President of the United States Vice President of the United States Sections Executive Section Economic and Social Section Legal Section Management Section Political Section Remarks and Highlights President of the United States Home Home | Our Leaders | President of the United States Trump serves as the 47th President of the United States. U.S. MISSION TO THE UN United States Mission to the United Nations This is the official website of the U.S. Mission to the United Nations. External links to other Internet sites should not be construed as an endorsement of the views or privacy policies contained therein.'},\n",
       " {'url': 'https://www.instagram.com/potus/?hl=en',\n",
       "  'content': 'President Donald J. Trump 45th & 47th President of the United States. The Golden Age of America Begins Right Now.'}]"
      ]
     },
     "execution_count": 50,
     "metadata": {},
     "output_type": "execute_result"
    }
   ],
   "source": [
    "@tool\n",
    "def search(query:str):\n",
    "    \"\"\"perform the web search on the user query\"\"\"\n",
    "    tavily=TavilySearchResults()\n",
    "    result=tavily.invoke(query)\n",
    "    return result\n",
    "\n",
    "\n",
    "search(\"who is a current president of USA?\")"
   ]
  },
  {
   "cell_type": "code",
   "execution_count": 51,
   "metadata": {},
   "outputs": [
    {
     "data": {
      "text/plain": [
       "{'search': StructuredTool(name='search', description='perform the web search on the user query', args_schema=<class 'langchain_core.utils.pydantic.search'>, func=<function search at 0x126936200>),\n",
       " 'multiply': StructuredTool(name='multiply', description='multiply two integer number', args_schema=<class 'langchain_core.utils.pydantic.multiply'>, func=<function multiply at 0x126935080>)}"
      ]
     },
     "execution_count": 51,
     "metadata": {},
     "output_type": "execute_result"
    }
   ],
   "source": [
    "tools=[search,multiply]\n",
    "\n",
    "model_with_tools = llm.bind_tools(tools)\n",
    "\n",
    "tool_mapping={tool.name: tool for tool in tools}\n",
    "\n",
    "tool_mapping"
   ]
  },
  {
   "cell_type": "code",
   "execution_count": 8,
   "metadata": {},
   "outputs": [
    {
     "data": {
      "text/plain": [
       "AIMessage(content='', additional_kwargs={'function_call': {'name': 'search', 'arguments': '{\"query\": \"who is president of USA right now\"}'}}, response_metadata={'prompt_feedback': {'block_reason': 0, 'safety_ratings': []}, 'finish_reason': 'STOP', 'safety_ratings': []}, id='run-9b1d1f57-e293-41d5-9e62-923c7004638d-0', tool_calls=[{'name': 'search', 'args': {'query': 'who is president of USA right now'}, 'id': 'c5827ba5-24be-4a64-a0f1-11539dd5521d', 'type': 'tool_call'}], usage_metadata={'input_tokens': 36, 'output_tokens': 9, 'total_tokens': 45, 'input_token_details': {'cache_read': 0}})"
      ]
     },
     "execution_count": 8,
     "metadata": {},
     "output_type": "execute_result"
    }
   ],
   "source": [
    "response = model_with_tools.invoke(\"who is a current president of USA?\")\n",
    "\n",
    "response"
   ]
  },
  {
   "cell_type": "code",
   "execution_count": 10,
   "metadata": {},
   "outputs": [
    {
     "data": {
      "text/plain": [
       "[{'name': 'search',\n",
       "  'args': {'query': 'who is president of USA right now'},\n",
       "  'id': 'c5827ba5-24be-4a64-a0f1-11539dd5521d',\n",
       "  'type': 'tool_call'}]"
      ]
     },
     "execution_count": 10,
     "metadata": {},
     "output_type": "execute_result"
    }
   ],
   "source": [
    "tool_details=response.tool_calls\n",
    "\n",
    "tool_details"
   ]
  },
  {
   "cell_type": "code",
   "execution_count": 11,
   "metadata": {},
   "outputs": [
    {
     "data": {
      "text/plain": [
       "'search'"
      ]
     },
     "execution_count": 11,
     "metadata": {},
     "output_type": "execute_result"
    }
   ],
   "source": [
    "tool_details[0][\"name\"]"
   ]
  },
  {
   "cell_type": "code",
   "execution_count": 22,
   "metadata": {},
   "outputs": [
    {
     "data": {
      "text/plain": [
       "{'query': 'who is president of USA right now'}"
      ]
     },
     "execution_count": 22,
     "metadata": {},
     "output_type": "execute_result"
    }
   ],
   "source": [
    "tool_details[0][\"args\"]"
   ]
  },
  {
   "cell_type": "code",
   "execution_count": 23,
   "metadata": {},
   "outputs": [
    {
     "data": {
      "text/plain": [
       "[{'url': 'https://www.instagram.com/potus/?hl=en',\n",
       "  'content': 'President Donald J. Trump 45th & 47th President of the United States. The Golden Age of America Begins Right Now.'},\n",
       " {'url': 'https://www.whitehouse.gov/',\n",
       "  'content': 'The White House Administration The White House President Donald J. Trump Search Administration Search for:  Press Enter to Search America Is Back This will truly be the golden age of America. The Administration Trump President of the United States VICE PRESIDENT OF THE UNITED STATES Melania Trump First Lady OF THE UNITED STATES Of the 47th Administration President Trump is committed to lowering costs for all Americans, securing our borders, unleashing American energy dominance, restoring peace through strength, and making all Americans safe and secure once again. Get direct updates from The White House in your inbox. The White house THE WHITE HOUSE Administration The White House 1600 Pennsylvania Ave NW'},\n",
       " {'url': 'https://www.whitehouse.gov/administration/',\n",
       "  'content': 'The Trump Administration Search Search for:  Press Enter to Search Trump 45th & 47th President of the United States After a landslide election victory in 2024, President Donald J. Vice President of the United States In 2024, President Donald J. JD looks forward to serving with President Trump over the next four years as they work diligently to Make America Great Again. Melania Trump FIRST Lady of the United States First Lady Melania Trump is the wife of the 45th and 47th President, Donald J. SECOND Lady of the United States Second Lady Usha Vance is the proud wife of Vice President JD Vance and the mother of their three beautiful children, Ewan, Vivek, and Mirabel. President Trump’s Team'},\n",
       " {'url': 'https://www.usa.gov/presidents',\n",
       "  'content': 'Presidents, vice presidents, and first ladies | USAGov An official website of the United States government A .gov website belongs to an official government organization in the United States. Learn about the duties of president, vice president, and first lady of the United States. President of the United States The president of the United States is the: Former U.S. presidents The United States has had 46 former U.S. presidents. Vice president of the United States The vice president of the United States presides over the U.S. Senate and takes over the role of president of the United States if the president is unable to perform their duties. The 50th and current vice president of the United States is James David (JD) Vance.'},\n",
       " {'url': 'https://usun.usmission.gov/our-leaders/the-president-of-the-united-states/',\n",
       "  'content': 'President of the United States - United States Mission to the United Nations United States Mission to the United Nations U.S. Mission Leaders President of the United States Vice President of the United States Sections Executive Section Economic and Social Section Legal Section Management Section Political Section Remarks and Highlights President of the United States Home Home | Our Leaders | President of the United States Trump serves as the 47th President of the United States. U.S. MISSION TO THE UN United States Mission to the United Nations This is the official website of the U.S. Mission to the United Nations. External links to other Internet sites should not be construed as an endorsement of the views or privacy policies contained therein.'}]"
      ]
     },
     "execution_count": 23,
     "metadata": {},
     "output_type": "execute_result"
    }
   ],
   "source": [
    "tool_mapping[tool_details[0][\"name\"]].invoke(tool_details[0][\"args\"])\n"
   ]
  },
  {
   "cell_type": "code",
   "execution_count": 61,
   "metadata": {},
   "outputs": [],
   "source": [
    "class AgentState(TypedDict):\n",
    "    messages: Annotated[Sequence[BaseMessage], operator.add]\n",
    "\n",
    "def invoke_model(state:AgentState):\n",
    "    print(\"inside model\")\n",
    "    messages = state['messages']\n",
    "    question = messages[-1]   ## Fetching the user question\n",
    "    return {\"messages\":[model_with_tools.invoke(question)]}\n",
    "\n",
    "def invoke_tool(state:AgentState):\n",
    "    print(\"inside tool\")\n",
    "    tool_details= state['messages'][-1].tool_calls[0]\n",
    "    \n",
    "    if tool_details is None:\n",
    "        raise Exception(\"no tool call found\")\n",
    "    \n",
    "    print(f'Selected tool: {tool_details.get(\"name\")}')\n",
    "    \n",
    "    if tool_details.get(\"name\")==\"search\":\n",
    "        response = input(prompt=f\"[y/n] continue with expensive web search?\")\n",
    "        if response == \"n\":\n",
    "            raise Exception(\"web search discard\")\n",
    "        \n",
    "    response = tool_mapping[tool_details['name']].invoke(tool_details.get(\"args\"))\n",
    "    return {\"messages\" : [response]}\n",
    "\n",
    "\n",
    "\n",
    "def router(state):\n",
    "    tool_calls = state['messages'][-1].tool_calls\n",
    "    if len(tool_calls):\n",
    "        return \"tool\"\n",
    "    else:\n",
    "        return \"end\"\n",
    "    \n"
   ]
  },
  {
   "cell_type": "code",
   "execution_count": 62,
   "metadata": {},
   "outputs": [
    {
     "data": {
      "image/png": "[encoded data removed]",
      "text/plain": [
       "<IPython.core.display.Image object>"
      ]
     },
     "metadata": {},
     "output_type": "display_data"
    }
   ],
   "source": [
    "graph = StateGraph(AgentState) ### StateGraph with AgentState\n",
    "\n",
    "graph.add_node(\"ai_assistant\", invoke_model)\n",
    "\n",
    "graph.add_node(\"tool\", invoke_tool)\n",
    "\n",
    "graph.add_conditional_edges(\"ai_assistant\", router, {\"tool\": \"tool\",\"end\": END,})\n",
    "\n",
    "graph.add_edge(\"tool\", END)\n",
    "\n",
    "#graph.add_edge(\"tool\", \"ai_assistant\")\n",
    "\n",
    "graph.set_entry_point(\"ai_assistant\")\n",
    "\n",
    "\n",
    "app = graph.compile()\n",
    "\n",
    "from IPython.display import Image, display\n",
    "display(Image(app.get_graph().draw_mermaid_png()))"
   ]
  },
  {
   "cell_type": "code",
   "execution_count": 63,
   "metadata": {},
   "outputs": [
    {
     "name": "stdout",
     "output_type": "stream",
     "text": [
      "inside model\n",
      "{'messages': [AIMessage(content='', additional_kwargs={'function_call': {'name': 'search', 'arguments': '{\"query\": \"who is upcoming president of USA?\"}'}}, response_metadata={'prompt_feedback': {'block_reason': 0, 'safety_ratings': []}, 'finish_reason': 'STOP', 'safety_ratings': []}, id='run-82d96ce1-47a7-469d-b883-9cc4cb27c061-0', tool_calls=[{'name': 'search', 'args': {'query': 'who is upcoming president of USA?'}, 'id': 'e80af920-917e-4060-b1f1-5a4fe89227b1', 'type': 'tool_call'}], usage_metadata={'input_tokens': 35, 'output_tokens': 9, 'total_tokens': 44, 'input_token_details': {'cache_read': 0}})]}\n",
      "----\n",
      "inside tool\n",
      "Selected tool: search\n",
      "{'messages': [[{'url': 'https://www.britannica.com/event/United-States-presidential-election-of-2024', 'content': 'United States presidential election of 2024 | Background, Candidates, Donald Trump, Joe Biden, Indictments, & Facts | Britannica Ask the Chatbot Games & Quizzes History & Society Science & Tech Biographies Animals & Nature Geography & Travel Arts & Culture ProCon Money Videos United States presidential election of 2024, American election, held on November 5, 2024, in which former Republican president Donald Trump (2017–21) defeated the Democratic nominee, Vice Pres. In January 2024 the federal criminal case concerning Trump’s efforts to overturn the 2020 election, whose trial date had been scheduled for March 4, was indefinitely delayed after Trump appealed the district court’s ruling rejecting his contention that he should be immune from prosecution for acts he committed while serving as president.'}, {'url': 'https://www.nytimes.com/interactive/2023/us/politics/presidential-candidates-2024.html', 'content': 'Mr. Trump dispatched with a large group of Republican challengers, most of whom ended their campaigns before a single vote was cast, and Mr. Biden faced only nominal opposition. Vice President Kamala Harris sought the nomination in the president’s place, and the Democratic Party immediately consolidated around her. Vice President Harris, a former prosecutor and senator of California, has at times struggled to define her role at Mr. Biden’s side. Jill Stein, a physician who ran for president on the Green Party ticket in 2012 and 2016, is seeking the party’s nomination for a third time. See more on: 2024 Elections: News, Polls and Analysis, Donald Trump, President Joe Biden, Nikki Haley, Vivek Ramaswamy, U.S. Politics'}, {'url': 'https://indianexpress.com/article/trending/trending-globally/us-election-results-2024-a-complete-list-of-the-us-presidents-to-date-9655665/', 'content': 'My Express .Opens in new window India .Opens in new window News Full List of US Presidents Till Date: Donald Trump secured a landslide victory in the 2024 US Presidential Elections, becoming 47th President. List Of The United States Presidents Till Now (1789-2022): Republican presidential nominee Donald Trump secures victory in three of the seven battleground states—North Carolina, Pennsylvania and Georgia_—United States House Speaker Johnson announced him as the new president-elect, news agency\\xa0_Reuters reported. The 2024 United States presidential elections have witnessed a fierce contest between former President Donald Trump and Vice President Kamala Harris, with all eyes now on the results announced today. Trump announced as the 47th President of the United States; Check the complete list of US Presidents to date, from latest to oldest.'}, {'url': 'https://www.bbc.com/news/articles/cde7ng85jwgo', 'content': \"When will Donald Trump take office as US president? When will Donald Trump take office as US president? Republican Donald Trump will be the next US president, after he defeated Democrat Kamala Harris in November's election. Is Donald Trump president yet? Can Donald Trump serve a third term as president? Watch moment Kamala Harris certifies US election result ------------------------------------------------------- Harris, who Trump defeated in the 2024 election, presided over the event as required by the US Constitution. ‘Welcome back’ - Watch moment Biden congratulates Trump ------------------------------------------------------- The president and president-elect shook hands as part of a long-standing tradition signifying the transfer of power. Watch: Biden urges Democrats to 'get back up' after Trump win ------------------------------------------------------------- The president addressed Americans from the White House for the first time since Donald Trump's election victory.\"}, {'url': 'https://en.wikipedia.org/wiki/2024_United_States_presidential_election', 'content': 'Former president Trump, lawmakers, and mass media raised concerns about President Biden\\'s age, including his cognitive state, during and after the 2020 United States presidential election.[147] These concerns increased after a poor performance by Biden during a debate against Trump in the 2024 presidential election, which led a number of commentators and some Democratic lawmakers to call for Biden to drop out of the 2024 presidential race.[148] In July 2024, Biden withdrew his candidacy while stating that he would continue serving as president until the conclusion of his term.[149] According to a February 2024 poll, Biden\\'s age and health were major or moderate concerns for 86% of voters generally,[147] up from 76% earlier in 2020.[150] According to another 2024 poll, most of those who voted for Biden in 2020 believed he was too old to be an effective president; The New York Times noted that these concerns \"cut across generations, gender, race and education\".[151]'}]]}\n",
      "----\n"
     ]
    }
   ],
   "source": [
    "\n",
    "for s in app.stream({\"messages\": [\"who is upcoming president of USA?\"]}):\n",
    "    print(list(s.values())[0])\n",
    "    print(\"----\")"
   ]
  },
  {
   "cell_type": "code",
   "execution_count": 64,
   "metadata": {},
   "outputs": [
    {
     "name": "stdout",
     "output_type": "stream",
     "text": [
      "inside model\n",
      "{'messages': [AIMessage(content='', additional_kwargs={'function_call': {'name': 'multiply', 'arguments': '{\"second_number\": 46.0, \"first_number\": 23.0}'}}, response_metadata={'prompt_feedback': {'block_reason': 0, 'safety_ratings': []}, 'finish_reason': 'STOP', 'safety_ratings': []}, id='run-98026b55-a2c5-463a-882a-cb619cd060fa-0', tool_calls=[{'name': 'multiply', 'args': {'second_number': 46.0, 'first_number': 23.0}, 'id': '5c9bc4b7-56f0-4b6f-95c9-2db2910657f9', 'type': 'tool_call'}], usage_metadata={'input_tokens': 40, 'output_tokens': 7, 'total_tokens': 47, 'input_token_details': {'cache_read': 0}})]}\n",
      "----\n",
      "inside tool\n",
      "Selected tool: multiply\n",
      "{'messages': [1058]}\n",
      "----\n"
     ]
    }
   ],
   "source": [
    "for s in app.stream({\"messages\": [\"what is multiplication of 23 and 46?\"]}):\n",
    "    print(list(s.values())[0])\n",
    "    print(\"----\")"
   ]
  },
  {
   "cell_type": "markdown",
   "metadata": {},
   "source": [
    "LangGraph supports human-in-the-loop workflows in a number of ways. In this section, we will use LangGraph's interrupt_before functionality to always break the tool node."
   ]
  },
  {
   "cell_type": "code",
   "execution_count": 28,
   "metadata": {},
   "outputs": [
    {
     "data": {
      "image/png": "[encoded data removed]",
      "text/plain": [
       "<IPython.core.display.Image object>"
      ]
     },
     "metadata": {},
     "output_type": "display_data"
    }
   ],
   "source": [
    "\n",
    "class AgentState(TypedDict):\n",
    "    messages: Annotated[list, add_messages]\n",
    "\n",
    "tavily=TavilySearchResults()\n",
    "\n",
    "\n",
    "tools = [tavily]\n",
    "\n",
    "\n",
    "llm_with_tools = llm.bind_tools(tools)\n",
    "\n",
    "def ai_assistant(state: AgentState):\n",
    "    return {\"messages\": [llm_with_tools.invoke(state[\"messages\"])]}\n",
    "\n",
    "memory = MemorySaver()\n",
    "\n",
    "graph_builder = StateGraph(AgentState)\n",
    "graph_builder.add_node(\"ai_assistant\", ai_assistant)\n",
    "\n",
    "tool_node = ToolNode(tools=tools)\n",
    "graph_builder.add_node(\"tools\", tool_node)\n",
    "\n",
    "\n",
    "graph_builder.add_edge(START, \"ai_assistant\")\n",
    "\n",
    "graph_builder.add_conditional_edges(\n",
    "    \"ai_assistant\",\n",
    "    tools_condition,\n",
    ")\n",
    "graph_builder.add_edge(\"tools\", \"ai_assistant\")\n",
    "\n",
    "\n",
    "app2 = graph_builder.compile(\n",
    "    checkpointer=memory,\n",
    "    # This is new!\n",
    "    interrupt_before=[\"tools\"],\n",
    "    # Note: can also interrupt __after__ tools, if desired.\n",
    "    # interrupt_after=[\"tools\"]\n",
    ")\n",
    "\n",
    "from IPython.display import Image, display\n",
    "display(Image(app2.get_graph().draw_mermaid_png()))"
   ]
  },
  {
   "cell_type": "code",
   "execution_count": 29,
   "metadata": {},
   "outputs": [
    {
     "name": "stdout",
     "output_type": "stream",
     "text": [
      "================================\u001b[1m Human Message \u001b[0m=================================\n",
      "\n",
      "what is current a capital of india?\n",
      "==================================\u001b[1m Ai Message \u001b[0m==================================\n",
      "Tool Calls:\n",
      "  tavily_search_results_json (fe4f8986-c790-45bf-b58f-84ac83051300)\n",
      " Call ID: fe4f8986-c790-45bf-b58f-84ac83051300\n",
      "  Args:\n",
      "    query: current capital of India\n"
     ]
    }
   ],
   "source": [
    "user_input = \"what is current a capital of india?\"\n",
    "config = {\"configurable\": {\"thread_id\": \"1\"}}\n",
    "\n",
    "\n",
    "# The config is the **second positional argument** to stream() or invoke()!\n",
    "events = app2.stream(\n",
    "    {\"messages\": [(\"user\", user_input)]}, config, stream_mode=\"values\"\n",
    ")\n",
    "\n",
    "for event in events:\n",
    "    if \"messages\" in event:\n",
    "        event[\"messages\"][-1].pretty_print()"
   ]
  },
  {
   "cell_type": "code",
   "execution_count": null,
   "metadata": {},
   "outputs": [],
   "source": [
    "snapshot = app2.get_state(config)\n",
    "\n"
   ]
  },
  {
   "cell_type": "code",
   "execution_count": 31,
   "metadata": {},
   "outputs": [
    {
     "data": {
      "text/plain": [
       "('tools',)"
      ]
     },
     "execution_count": 31,
     "metadata": {},
     "output_type": "execute_result"
    }
   ],
   "source": [
    "snapshot.next"
   ]
  },
  {
   "cell_type": "code",
   "execution_count": 33,
   "metadata": {},
   "outputs": [
    {
     "data": {
      "text/plain": [
       "[{'name': 'tavily_search_results_json',\n",
       "  'args': {'query': 'current capital of India'},\n",
       "  'id': 'fe4f8986-c790-45bf-b58f-84ac83051300',\n",
       "  'type': 'tool_call'}]"
      ]
     },
     "execution_count": 33,
     "metadata": {},
     "output_type": "execute_result"
    }
   ],
   "source": [
    "\n",
    "last_message=snapshot.values[\"messages\"][-1]\n",
    "\n",
    "last_message.tool_calls"
   ]
  },
  {
   "cell_type": "code",
   "execution_count": 35,
   "metadata": {},
   "outputs": [
    {
     "name": "stdout",
     "output_type": "stream",
     "text": [
      "==================================\u001b[1m Ai Message \u001b[0m==================================\n",
      "Tool Calls:\n",
      "  tavily_search_results_json (fe4f8986-c790-45bf-b58f-84ac83051300)\n",
      " Call ID: fe4f8986-c790-45bf-b58f-84ac83051300\n",
      "  Args:\n",
      "    query: current capital of India\n",
      "=================================\u001b[1m Tool Message \u001b[0m=================================\n",
      "Name: tavily_search_results_json\n",
      "\n",
      "[{\"url\": \"https://currentaffairs.adda247.com/states-and-capitals/\", \"content\": \"States and Capitals of India 2025: Updated List of All 28 States & 8 Union Territories It is divided into 28 states and 8 union territories, each with its own capital city. The states and capitals of India form a vibrant tapestry, reflecting the nation’s diversity in culture, traditions, and innovation. States and Capitals of India 2025 Total states in India of 28 states and 8 union territories. State and Capital of India-UT’s The capital of India is New Delhi, which is a union territory. The states and union territories of India are home to a diverse range of cultures, languages, and religions. Gandhinagar, a city located in the western state of Gujarat, India, is the capital of Gujarat.\"}, {\"url\": \"https://store.pw.live/blogs/ssc-exams/states-and-capitals-of-india-list?srsltid=AfmBOoriQeK9wctF6bUmWNauMQyD5G5OjMAf-5UiC9B6BUH4iRoVaRZg\", \"content\": \"List of States and Capitals of India ; 1. Andhra Pradesh. Amaravati ; 2. Arunachal Pradesh. Itanagar ; 3. Assam. Dispur ; 4. Bihar. Patna.\"}, {\"url\": \"https://en.wikipedia.org/wiki/List_of_state_and_union_territory_capitals_in_India\", \"content\": \"List of state and union territory capitals in India - Wikipedia List of state and union territory capitals in India India is a federal constitutional republic governed under a parliamentary system consisting of 28 states and 8 union territories.[1] All states, as well as the union territories of Jammu and Kashmir, Puducherry and the National Capital Territory of Delhi, have elected legislatures and governments, both patterned on the Westminster model. The legislatures of three states Himachal Pradesh, Maharashtra and Uttarakhand meet in different capitals for their summer and winter sessions. Nagpur (Winter) | Mumbai | 1960 |  — | State and Union Territory capitals of India Retrieved from \\\"https://en.wikipedia.org/w/index.php?title=List_of_state_and_union_territory_capitals_in_India&oldid=1260775855\\\" List of state and union territory capitals in India\"}, {\"url\": \"https://en.wikipedia.org/wiki/List_of_capitals_of_India\", \"content\": \"Jump to content Personal tools Toggle the table of contents List of capitals of India Tools Find sources: \\\"List of capitals of India\\\" – news · newspapers · books · scholar · JSTOR (September 2012) (Learn how and when to remove this message) Vijayanagara: Capital of Vijayanagara Empire from early 14th Century until 1585, when it was abandoned, ostensibly due to lack of water. Pune: In 1730, Pune became the capital of the Marathas of the Maratha Empire.At this time Maratha Empire was at its peak, and became the only non-mughal capital. Retrieved 22 July 2020. Retrieved 21 March 2014. Categories: Lists of cities in IndiaCapitals by countryIndia history-related listsLists of capitals By using this site, you agree to the Terms of Use and Privacy Policy.\"}, {\"url\": \"https://byjus.com/ias-questions/what-are-the-states-of-india-and-their-capitals/\", \"content\": \"What are the states of India and their capitals? ; Andhra Pradesh, Amaravati ; Arunachal Pradesh, Itanagar ; Assam, Dispur ; Bihar, Patna ; Chhattisgarh, Raipur.\"}]\n",
      "==================================\u001b[1m Ai Message \u001b[0m==================================\n",
      "\n",
      "The current capital of India is New Delhi.\n"
     ]
    }
   ],
   "source": [
    "\n",
    "# `None` will append nothing new to the current state, letting it resume as if it had never been interrupted\n",
    "events = app2.stream(None, config, stream_mode=\"values\")\n",
    "\n",
    "\n",
    "for event in events:\n",
    "    if \"messages\" in event:\n",
    "        event[\"messages\"][-1].pretty_print()"
   ]
  },
  {
   "cell_type": "code",
   "execution_count": 36,
   "metadata": {},
   "outputs": [
    {
     "name": "stdout",
     "output_type": "stream",
     "text": [
      "================================\u001b[1m Human Message \u001b[0m=================================\n",
      "\n",
      "what is a weather there?\n",
      "==================================\u001b[1m Ai Message \u001b[0m==================================\n",
      "Tool Calls:\n",
      "  tavily_search_results_json (c4b3511c-69a1-4f9e-b434-37209fd516c8)\n",
      " Call ID: c4b3511c-69a1-4f9e-b434-37209fd516c8\n",
      "  Args:\n",
      "    query: weather in New Delhi\n"
     ]
    }
   ],
   "source": [
    "\n",
    "user_input = \"what is a weather there?\"\n",
    "\n",
    "config = {\"configurable\": {\"thread_id\": \"1\"}}\n",
    "\n",
    "# The config is the **second positional argument** to stream() or invoke()!\n",
    "events = app2.stream(\n",
    "    {\"messages\": [(\"user\", user_input)]}, config, stream_mode=\"values\"\n",
    ")\n",
    "\n",
    "\n",
    "for event in events:\n",
    "    if \"messages\" in event:\n",
    "        event[\"messages\"][-1].pretty_print()\n",
    "\n",
    "        "
   ]
  },
  {
   "cell_type": "code",
   "execution_count": 37,
   "metadata": {},
   "outputs": [
    {
     "data": {
      "text/plain": [
       "('tools',)"
      ]
     },
     "execution_count": 37,
     "metadata": {},
     "output_type": "execute_result"
    }
   ],
   "source": [
    "\n",
    "snapshot = app2.get_state(config)\n",
    "snapshot.next"
   ]
  },
  {
   "cell_type": "code",
   "execution_count": 38,
   "metadata": {},
   "outputs": [
    {
     "data": {
      "text/plain": [
       "[{'name': 'tavily_search_results_json',\n",
       "  'args': {'query': 'weather in New Delhi'},\n",
       "  'id': 'c4b3511c-69a1-4f9e-b434-37209fd516c8',\n",
       "  'type': 'tool_call'}]"
      ]
     },
     "execution_count": 38,
     "metadata": {},
     "output_type": "execute_result"
    }
   ],
   "source": [
    "\n",
    "last_message=snapshot.values[\"messages\"][-1]\n",
    "last_message.tool_calls"
   ]
  },
  {
   "cell_type": "code",
   "execution_count": 39,
   "metadata": {},
   "outputs": [
    {
     "name": "stdout",
     "output_type": "stream",
     "text": [
      "==================================\u001b[1m Ai Message \u001b[0m==================================\n",
      "Tool Calls:\n",
      "  tavily_search_results_json (c4b3511c-69a1-4f9e-b434-37209fd516c8)\n",
      " Call ID: c4b3511c-69a1-4f9e-b434-37209fd516c8\n",
      "  Args:\n",
      "    query: weather in New Delhi\n",
      "=================================\u001b[1m Tool Message \u001b[0m=================================\n",
      "Name: tavily_search_results_json\n",
      "\n",
      "[{\"url\": \"https://www.weatherapi.com/\", \"content\": \"{'location': {'name': 'New Delhi', 'region': 'Delhi', 'country': 'India', 'lat': 28.6, 'lon': 77.2, 'tz_id': 'Asia/Kolkata', 'localtime_epoch': 1740704569, 'localtime': '2025-02-28 06:32'}, 'current': {'last_updated_epoch': 1740704400, 'last_updated': '2025-02-28 06:30', 'temp_c': 20.4, 'temp_f': 68.7, 'is_day': 0, 'condition': {'text': 'Patchy rain nearby', 'icon': '//cdn.weatherapi.com/weather/64x64/night/176.png', 'code': 1063}, 'wind_mph': 6.0, 'wind_kph': 9.7, 'wind_degree': 158, 'wind_dir': 'SSE', 'pressure_mb': 1013.0, 'pressure_in': 29.91, 'precip_mm': 0.02, 'precip_in': 0.0, 'humidity': 43, 'cloud': 51, 'feelslike_c': 20.4, 'feelslike_f': 68.7, 'windchill_c': 20.4, 'windchill_f': 68.7, 'heatindex_c': 20.4, 'heatindex_f': 68.7, 'dewpoint_c': 7.3, 'dewpoint_f': 45.1, 'vis_km': 10.0, 'vis_miles': 6.0, 'uv': 0.0, 'gust_mph': 11.0, 'gust_kph': 17.7}}\"}, {\"url\": \"https://world-weather.info/forecast/india/delhi/february-2025/\", \"content\": \"Weather in Delhi in February 2025 (Union Territory of Delhi) - Detailed Weather Forecast for a Month Weather World Union Territory of Delhi Weather in Delhi Weather in Delhi in February 2025 Delhi Weather Forecast for February 2025, is based on previous years' statistical data. +70°+55° +70°+54° +72°+54° +72°+55° +72°+57° +72°+57° +72°+57° +72°+55° +73°+55° +72°+55° +72°+55° +75°+57° +75°+57° +75°+59° +75°+59° +77°+57° +77°+59° +79°+61° +79°+61° +79°+63° +79°+63° +81°+63° +79°+63° +77°+63° +79°+63° +79°+63° +81°+64° +82°+63° Extended weather forecast in Delhi HourlyWeek10-Day14-Day30-DayYear Weather in large and nearby cities Weather in New Delhi+61° Panipat+63° Muzaffarnagar+64° Karnāl+64° Aligarh+68° Alwar+63° Mathura+68° Sahāranpur+66° Morādābād+64° Rohtak+63° Meerut+63° Okhla Industrial Development Area+63° Nāngloi Jāt+63° Ghaziabad+63° Noida+63° Faridabad+63° Gurgaon+63° Sonīpat+63° world's temperature today day day Temperature units\"}, {\"url\": \"https://www.weather2travel.com/india/new-delhi/february/\", \"content\": \"New Delhi weather in February 2025 | India: How hot? Holidays Expect 24°C daytime maximum temperatures in the shade with on average 8 hours of sunshine per day in New Delhi in February. Check more long-term weather averages for New Delhi in February before you book your next holiday to India in 2025/2026. TUI discount code: up to £300 off 2025/2026 holidays There are usually 2 days with some rain in New Delhi in February and the average monthly rainfall is 15mm. More holidays Boxing Day sales Handpicked travel deals & holiday discounts We help you find the best travel deals for your holiday in the sun by sharing tips on when and where to go, before providing you with top discounts. Holidays\"}, {\"url\": \"https://timesofindia.indiatimes.com/weather/new-delhi-weather-forecast-today/110011\", \"content\": \"Is LA wildfire and HMPV the signs?‘Ukraine is ready … ’: Zelenskyy offers to swap North Korean soldiers for Ukrainian war prisonersKundali Bhagya stars Shraddha Arya and Dheeraj Dhoopat share heartwarming images as they reunite; see pics'Fires for profit': 2 firemen held in Jaipur for setting factories ablaze, then dousing flames for gains5-year-old girl infected with HMPV in PuducherryActor Rana Daggubati and kin booked for trespassing, razing Hyderabad hotel'Wicked' music producer Greg Wells loses his family home to LA firesHow daughter's promise helped this dad overcome a terminal cancer diagnosis\\\"Ridiculous\\\": Klay Thompson shares bold thoughts on LeBron James after Nuggets-Mavs gameUP to link Noida airport with Uttarakhand and Madhya Pradesh via NH-34Khajuraho traders in shock as scammers replace QR codes outside shops overnight to redirect paymentsIndia’s First International-Standard Concrete Velodrome Unveiled at KIIT - KISS Campus, a Game-Changer for Indian Cycling and Sports Infrastructure Vikings vs.\"}, {\"url\": \"https://www.weather25.com/asia/india/delhi?page=month&month=February\", \"content\": \"Delhi weather in February 2025 | Delhi 14 day weather Delhi  Delhi Delhi weather in February 2025 The average weather in Delhi in February The wather in Delhi in February can vary between cold and nice weather days. | Delhi in February | | Delhi in May | Temperatures in Delhi in February Weather in Delhi in February - FAQ The average temperature in Delhi in February is 14/26° C. On average, there are 2 rainy days in Delhi during February. The weather in Delhi in February is perfect. On average, there are 0 snowy days in Delhi in February. More about the weather in Delhi Delhi 14 day weather Long range weather for Delhi Delhi weather in March Weather tomorrow Hotels in Delhi\"}]\n",
      "==================================\u001b[1m Ai Message \u001b[0m==================================\n",
      "\n",
      "The weather in New Delhi is currently 20.4°C with patchy rain nearby. The wind is blowing from the SSE at 9.7 kph.\n"
     ]
    }
   ],
   "source": [
    "# `None` will append nothing new to the current state, letting it resume as if it had never been interrupted\n",
    "events = app2.stream(None, config, stream_mode=\"values\")\n",
    "\n",
    "\n",
    "for event in events:\n",
    "    if \"messages\" in event:\n",
    "        event[\"messages\"][-1].pretty_print()"
   ]
  },
  {
   "cell_type": "code",
   "execution_count": 40,
   "metadata": {},
   "outputs": [
    {
     "data": {
      "text/plain": [
       "StateSnapshot(values={'messages': [HumanMessage(content='what is current a capital of india?', additional_kwargs={}, response_metadata={}, id='0780b5c1-0f9a-4e5b-8119-f4fedd2487ce'), AIMessage(content='', additional_kwargs={'function_call': {'name': 'tavily_search_results_json', 'arguments': '{\"query\": \"current capital of India\"}'}}, response_metadata={'prompt_feedback': {'block_reason': 0, 'safety_ratings': []}, 'finish_reason': 'STOP', 'safety_ratings': []}, id='run-8f69d2c1-069b-4340-937a-107c7beb48a6-0', tool_calls=[{'name': 'tavily_search_results_json', 'args': {'query': 'current capital of India'}, 'id': 'fe4f8986-c790-45bf-b58f-84ac83051300', 'type': 'tool_call'}], usage_metadata={'input_tokens': 55, 'output_tokens': 13, 'total_tokens': 68, 'input_token_details': {'cache_read': 0}}), ToolMessage(content='[{\"url\": \"https://currentaffairs.adda247.com/states-and-capitals/\", \"content\": \"States and Capitals of India 2025: Updated List of All 28 States & 8 Union Territories It is divided into 28 states and 8 union territories, each with its own capital city. The states and capitals of India form a vibrant tapestry, reflecting the nation’s diversity in culture, traditions, and innovation. States and Capitals of India 2025 Total states in India of 28 states and 8 union territories. State and Capital of India-UT’s The capital of India is New Delhi, which is a union territory. The states and union territories of India are home to a diverse range of cultures, languages, and religions. Gandhinagar, a city located in the western state of Gujarat, India, is the capital of Gujarat.\"}, {\"url\": \"https://store.pw.live/blogs/ssc-exams/states-and-capitals-of-india-list?srsltid=AfmBOoriQeK9wctF6bUmWNauMQyD5G5OjMAf-5UiC9B6BUH4iRoVaRZg\", \"content\": \"List of States and Capitals of India ; 1. Andhra Pradesh. Amaravati ; 2. Arunachal Pradesh. Itanagar ; 3. Assam. Dispur ; 4. Bihar. Patna.\"}, {\"url\": \"https://en.wikipedia.org/wiki/List_of_state_and_union_territory_capitals_in_India\", \"content\": \"List of state and union territory capitals in India - Wikipedia List of state and union territory capitals in India India is a federal constitutional republic governed under a parliamentary system consisting of 28 states and 8 union territories.[1] All states, as well as the union territories of Jammu and Kashmir, Puducherry and the National Capital Territory of Delhi, have elected legislatures and governments, both patterned on the Westminster model. The legislatures of three states Himachal Pradesh, Maharashtra and Uttarakhand meet in different capitals for their summer and winter sessions. Nagpur (Winter) | Mumbai | 1960 | \\xa0— | State and Union Territory capitals of India Retrieved from \\\\\"https://en.wikipedia.org/w/index.php?title=List_of_state_and_union_territory_capitals_in_India&oldid=1260775855\\\\\" List of state and union territory capitals in India\"}, {\"url\": \"https://en.wikipedia.org/wiki/List_of_capitals_of_India\", \"content\": \"Jump to content Personal tools Toggle the table of contents List of capitals of India Tools Find sources:\\xa0\\\\\"List of capitals of India\\\\\"\\xa0–\\xa0news\\xa0· newspapers\\xa0· books\\xa0· scholar\\xa0· JSTOR (September 2012) (Learn how and when to remove this message) Vijayanagara: Capital of Vijayanagara Empire from early 14th Century until 1585, when it was abandoned, ostensibly due to lack of water. Pune: In 1730, Pune became the capital of the Marathas of the Maratha Empire.At this time Maratha Empire was at its peak, and became the only non-mughal capital. Retrieved 22 July 2020. Retrieved 21 March 2014. Categories: Lists of cities in IndiaCapitals by countryIndia history-related listsLists of capitals By using this site, you agree to the Terms of Use and Privacy Policy.\"}, {\"url\": \"https://byjus.com/ias-questions/what-are-the-states-of-india-and-their-capitals/\", \"content\": \"What are the states of India and their capitals? ; Andhra Pradesh, Amaravati ; Arunachal Pradesh, Itanagar ; Assam, Dispur ; Bihar, Patna ; Chhattisgarh, Raipur.\"}]', name='tavily_search_results_json', id='a4512d16-34a7-4ead-970b-6840431e3db6', tool_call_id='fe4f8986-c790-45bf-b58f-84ac83051300', artifact={'query': 'current capital of India', 'follow_up_questions': None, 'answer': None, 'images': [], 'results': [{'url': 'https://currentaffairs.adda247.com/states-and-capitals/', 'title': \"India's 28 States & 8 Union Territories: Capitals, History & Key Facts\", 'content': 'States and Capitals of India 2025: Updated List of All 28 States & 8 Union Territories It is divided into 28 states and 8 union territories, each with its own capital city. The states and capitals of India form a vibrant tapestry, reflecting the nation’s diversity in culture, traditions, and innovation. States and Capitals of India 2025 Total states in India of 28 states and 8 union territories. State and Capital of India-UT’s The capital of India is New Delhi, which is a union territory. The states and union territories of India are home to a diverse range of cultures, languages, and religions. Gandhinagar, a city located in the western state of Gujarat, India, is the capital of Gujarat.', 'score': 0.8051581, 'raw_content': None}, {'url': 'https://store.pw.live/blogs/ssc-exams/states-and-capitals-of-india-list?srsltid=AfmBOoriQeK9wctF6bUmWNauMQyD5G5OjMAf-5UiC9B6BUH4iRoVaRZg', 'title': 'States and Capitals of India 2024, Check 28 States and 8 UT List', 'content': 'List of States and Capitals of India ; 1. Andhra Pradesh. Amaravati ; 2. Arunachal Pradesh. Itanagar ; 3. Assam. Dispur ; 4. Bihar. Patna.', 'score': 0.7161595, 'raw_content': None}, {'url': 'https://en.wikipedia.org/wiki/List_of_state_and_union_territory_capitals_in_India', 'title': 'List of state and union territory capitals in India - Wikipedia', 'content': 'List of state and union territory capitals in India - Wikipedia List of state and union territory capitals in India India is a federal constitutional republic governed under a parliamentary system consisting of 28 states and 8 union territories.[1] All states, as well as the union territories of Jammu and Kashmir, Puducherry and the National Capital Territory of Delhi, have elected legislatures and governments, both patterned on the Westminster model. The legislatures of three states Himachal Pradesh, Maharashtra and Uttarakhand meet in different capitals for their summer and winter sessions. Nagpur (Winter) | Mumbai | 1960 | \\xa0— | State and Union Territory capitals of India Retrieved from \"https://en.wikipedia.org/w/index.php?title=List_of_state_and_union_territory_capitals_in_India&oldid=1260775855\" List of state and union territory capitals in India', 'score': 0.6685563, 'raw_content': None}, {'url': 'https://en.wikipedia.org/wiki/List_of_capitals_of_India', 'title': 'List of capitals of India - Wikipedia', 'content': 'Jump to content Personal tools Toggle the table of contents List of capitals of India Tools Find sources:\\xa0\"List of capitals of India\"\\xa0–\\xa0news\\xa0· newspapers\\xa0· books\\xa0· scholar\\xa0· JSTOR (September 2012) (Learn how and when to remove this message) Vijayanagara: Capital of Vijayanagara Empire from early 14th Century until 1585, when it was abandoned, ostensibly due to lack of water. Pune: In 1730, Pune became the capital of the Marathas of the Maratha Empire.At this time Maratha Empire was at its peak, and became the only non-mughal capital. Retrieved 22 July 2020. Retrieved 21 March 2014. Categories: Lists of cities in IndiaCapitals by countryIndia history-related listsLists of capitals By using this site, you agree to the Terms of Use and Privacy Policy.', 'score': 0.6326168, 'raw_content': None}, {'url': 'https://byjus.com/ias-questions/what-are-the-states-of-india-and-their-capitals/', 'title': \"What are the states of India and their capitals? - BYJU'S\", 'content': 'What are the states of India and their capitals? ; Andhra Pradesh, Amaravati ; Arunachal Pradesh, Itanagar ; Assam, Dispur ; Bihar, Patna ; Chhattisgarh, Raipur.', 'score': 0.5227632, 'raw_content': None}], 'response_time': 1.72}), AIMessage(content='The current capital of India is New Delhi.', additional_kwargs={}, response_metadata={'prompt_feedback': {'block_reason': 0, 'safety_ratings': []}, 'finish_reason': 'STOP', 'safety_ratings': []}, id='run-7d0c3cb0-476e-4ff0-904e-3c282a00a8b6-0', usage_metadata={'input_tokens': 888, 'output_tokens': 10, 'total_tokens': 898, 'input_token_details': {'cache_read': 0}}), HumanMessage(content='what is a weather there?', additional_kwargs={}, response_metadata={}, id='3a151978-78a2-47fb-97b4-d5f1d1e1b894'), AIMessage(content='', additional_kwargs={'function_call': {'name': 'tavily_search_results_json', 'arguments': '{\"query\": \"weather in New Delhi\"}'}}, response_metadata={'prompt_feedback': {'block_reason': 0, 'safety_ratings': []}, 'finish_reason': 'STOP', 'safety_ratings': []}, id='run-3b13cc8b-4179-4368-a4f4-e66bfcbf91d2-0', tool_calls=[{'name': 'tavily_search_results_json', 'args': {'query': 'weather in New Delhi'}, 'id': 'c4b3511c-69a1-4f9e-b434-37209fd516c8', 'type': 'tool_call'}], usage_metadata={'input_tokens': 903, 'output_tokens': 13, 'total_tokens': 916, 'input_token_details': {'cache_read': 0}}), ToolMessage(content='[{\"url\": \"https://www.weatherapi.com/\", \"content\": \"{\\'location\\': {\\'name\\': \\'New Delhi\\', \\'region\\': \\'Delhi\\', \\'country\\': \\'India\\', \\'lat\\': 28.6, \\'lon\\': 77.2, \\'tz_id\\': \\'Asia/Kolkata\\', \\'localtime_epoch\\': 1740704569, \\'localtime\\': \\'2025-02-28 06:32\\'}, \\'current\\': {\\'last_updated_epoch\\': 1740704400, \\'last_updated\\': \\'2025-02-28 06:30\\', \\'temp_c\\': 20.4, \\'temp_f\\': 68.7, \\'is_day\\': 0, \\'condition\\': {\\'text\\': \\'Patchy rain nearby\\', \\'icon\\': \\'//cdn.weatherapi.com/weather/64x64/night/176.png\\', \\'code\\': 1063}, \\'wind_mph\\': 6.0, \\'wind_kph\\': 9.7, \\'wind_degree\\': 158, \\'wind_dir\\': \\'SSE\\', \\'pressure_mb\\': 1013.0, \\'pressure_in\\': 29.91, \\'precip_mm\\': 0.02, \\'precip_in\\': 0.0, \\'humidity\\': 43, \\'cloud\\': 51, \\'feelslike_c\\': 20.4, \\'feelslike_f\\': 68.7, \\'windchill_c\\': 20.4, \\'windchill_f\\': 68.7, \\'heatindex_c\\': 20.4, \\'heatindex_f\\': 68.7, \\'dewpoint_c\\': 7.3, \\'dewpoint_f\\': 45.1, \\'vis_km\\': 10.0, \\'vis_miles\\': 6.0, \\'uv\\': 0.0, \\'gust_mph\\': 11.0, \\'gust_kph\\': 17.7}}\"}, {\"url\": \"https://world-weather.info/forecast/india/delhi/february-2025/\", \"content\": \"Weather in Delhi in February 2025 (Union Territory of Delhi) - Detailed Weather Forecast for a Month Weather World Union Territory of Delhi Weather in Delhi Weather in Delhi in February 2025 Delhi Weather Forecast for February 2025, is based on previous years\\' statistical data. +70°+55° +70°+54° +72°+54° +72°+55° +72°+57° +72°+57° +72°+57° +72°+55° +73°+55° +72°+55° +72°+55° +75°+57° +75°+57° +75°+59° +75°+59° +77°+57° +77°+59° +79°+61° +79°+61° +79°+63° +79°+63° +81°+63° +79°+63° +77°+63° +79°+63° +79°+63° +81°+64° +82°+63° Extended weather forecast in Delhi HourlyWeek10-Day14-Day30-DayYear Weather in large and nearby cities Weather in New Delhi+61° Panipat+63° Muzaffarnagar+64° Karnāl+64° Aligarh+68° Alwar+63° Mathura+68° Sahāranpur+66° Morādābād+64° Rohtak+63° Meerut+63° Okhla Industrial Development Area+63° Nāngloi Jāt+63° Ghaziabad+63° Noida+63° Faridabad+63° Gurgaon+63° Sonīpat+63° world\\'s temperature today day day Temperature units\"}, {\"url\": \"https://www.weather2travel.com/india/new-delhi/february/\", \"content\": \"New Delhi weather in February 2025 | India: How hot? Holidays Expect 24°C daytime maximum temperatures in the shade with on average 8 hours of sunshine per day in New Delhi in February. Check more long-term weather averages for New Delhi in February before you book your next holiday to India in 2025/2026. TUI discount code: up to £300 off 2025/2026 holidays There are usually 2 days with some rain in New Delhi in February and the average monthly rainfall is 15mm. More holidays Boxing Day sales Handpicked travel deals & holiday discounts We help you find the best travel deals for your holiday in the sun by sharing tips on when and where to go, before providing you with top discounts. Holidays\"}, {\"url\": \"https://timesofindia.indiatimes.com/weather/new-delhi-weather-forecast-today/110011\", \"content\": \"Is LA wildfire and HMPV the signs?‘Ukraine is ready … ’: Zelenskyy offers to swap North Korean soldiers for Ukrainian war prisonersKundali Bhagya stars Shraddha Arya and Dheeraj Dhoopat share heartwarming images as they reunite; see pics\\'Fires for profit\\': 2 firemen held in Jaipur for setting factories ablaze, then dousing flames for gains5-year-old girl infected with HMPV in PuducherryActor Rana Daggubati and kin booked for trespassing, razing Hyderabad hotel\\'Wicked\\' music producer Greg Wells loses his family home to LA firesHow daughter\\'s promise helped this dad overcome a terminal cancer diagnosis\\\\\"Ridiculous\\\\\": Klay Thompson shares bold thoughts on LeBron James after Nuggets-Mavs gameUP to link Noida airport with Uttarakhand and Madhya Pradesh via NH-34Khajuraho traders in shock as scammers replace QR codes outside shops overnight to redirect paymentsIndia’s First International-Standard Concrete Velodrome Unveiled at KIIT - KISS Campus, a Game-Changer for Indian Cycling and Sports Infrastructure Vikings vs.\"}, {\"url\": \"https://www.weather25.com/asia/india/delhi?page=month&month=February\", \"content\": \"Delhi weather in February 2025 | Delhi 14 day weather Delhi  Delhi Delhi weather in February 2025 The average weather in Delhi in February The wather in Delhi in February can vary between cold and nice weather days. | Delhi in February | | Delhi in May | Temperatures in Delhi in February Weather in Delhi in February - FAQ The average temperature in Delhi in February is 14/26° C. On average, there are 2 rainy days in Delhi during February. The weather in Delhi in February is perfect. On average, there are 0 snowy days in Delhi in February. More about the weather in Delhi Delhi 14 day weather Long range weather for Delhi Delhi weather in March Weather tomorrow Hotels in Delhi\"}]', name='tavily_search_results_json', id='cbf5ba07-0b52-4a48-a6e6-12fcbc249b29', tool_call_id='c4b3511c-69a1-4f9e-b434-37209fd516c8', artifact={'query': 'weather in New Delhi', 'follow_up_questions': None, 'answer': None, 'images': [], 'results': [{'title': 'Weather in New Delhi', 'url': 'https://www.weatherapi.com/', 'content': \"{'location': {'name': 'New Delhi', 'region': 'Delhi', 'country': 'India', 'lat': 28.6, 'lon': 77.2, 'tz_id': 'Asia/Kolkata', 'localtime_epoch': 1740704569, 'localtime': '2025-02-28 06:32'}, 'current': {'last_updated_epoch': 1740704400, 'last_updated': '2025-02-28 06:30', 'temp_c': 20.4, 'temp_f': 68.7, 'is_day': 0, 'condition': {'text': 'Patchy rain nearby', 'icon': '//cdn.weatherapi.com/weather/64x64/night/176.png', 'code': 1063}, 'wind_mph': 6.0, 'wind_kph': 9.7, 'wind_degree': 158, 'wind_dir': 'SSE', 'pressure_mb': 1013.0, 'pressure_in': 29.91, 'precip_mm': 0.02, 'precip_in': 0.0, 'humidity': 43, 'cloud': 51, 'feelslike_c': 20.4, 'feelslike_f': 68.7, 'windchill_c': 20.4, 'windchill_f': 68.7, 'heatindex_c': 20.4, 'heatindex_f': 68.7, 'dewpoint_c': 7.3, 'dewpoint_f': 45.1, 'vis_km': 10.0, 'vis_miles': 6.0, 'uv': 0.0, 'gust_mph': 11.0, 'gust_kph': 17.7}}\", 'score': 0.8738907, 'raw_content': None}, {'url': 'https://world-weather.info/forecast/india/delhi/february-2025/', 'title': 'Weather in Delhi in February 2025', 'content': \"Weather in Delhi in February 2025 (Union Territory of Delhi) - Detailed Weather Forecast for a Month Weather World Union Territory of Delhi Weather in Delhi Weather in Delhi in February 2025 Delhi Weather Forecast for February 2025, is based on previous years' statistical data. +70°+55° +70°+54° +72°+54° +72°+55° +72°+57° +72°+57° +72°+57° +72°+55° +73°+55° +72°+55° +72°+55° +75°+57° +75°+57° +75°+59° +75°+59° +77°+57° +77°+59° +79°+61° +79°+61° +79°+63° +79°+63° +81°+63° +79°+63° +77°+63° +79°+63° +79°+63° +81°+64° +82°+63° Extended weather forecast in Delhi HourlyWeek10-Day14-Day30-DayYear Weather in large and nearby cities Weather in New Delhi+61° Panipat+63° Muzaffarnagar+64° Karnāl+64° Aligarh+68° Alwar+63° Mathura+68° Sahāranpur+66° Morādābād+64° Rohtak+63° Meerut+63° Okhla Industrial Development Area+63° Nāngloi Jāt+63° Ghaziabad+63° Noida+63° Faridabad+63° Gurgaon+63° Sonīpat+63° world's temperature today day day Temperature units\", 'score': 0.85421735, 'raw_content': None}, {'url': 'https://www.weather2travel.com/india/new-delhi/february/', 'title': 'New Delhi weather in February 2025 | India: How hot?', 'content': 'New Delhi weather in February 2025 | India: How hot? Holidays Expect 24°C daytime maximum temperatures in the shade with on average 8 hours of sunshine per day in New Delhi in February. Check more long-term weather averages for New Delhi in February before you book your next holiday to India in 2025/2026. TUI discount code: up to £300 off 2025/2026 holidays There are usually 2 days with some rain in New Delhi in February and the average monthly rainfall is 15mm. More holidays Boxing Day sales Handpicked travel deals & holiday discounts We help you find the best travel deals for your holiday in the sun by sharing tips on when and where to go, before providing you with top discounts. Holidays', 'score': 0.81025416, 'raw_content': None}, {'url': 'https://timesofindia.indiatimes.com/weather/new-delhi-weather-forecast-today/110011', 'title': 'new delhi Weather Forecast 28 Feb 2025 - Times of India', 'content': 'Is LA wildfire and HMPV the signs?‘Ukraine is ready … ’: Zelenskyy offers to swap North Korean soldiers for Ukrainian war prisonersKundali Bhagya stars Shraddha Arya and Dheeraj Dhoopat share heartwarming images as they reunite; see pics\\'Fires for profit\\': 2 firemen held in Jaipur for setting factories ablaze, then dousing flames for gains5-year-old girl infected with HMPV in PuducherryActor Rana Daggubati and kin booked for trespassing, razing Hyderabad hotel\\'Wicked\\' music producer Greg Wells loses his family home to LA firesHow daughter\\'s promise helped this dad overcome a terminal cancer diagnosis\"Ridiculous\": Klay Thompson shares bold thoughts on LeBron James after Nuggets-Mavs gameUP to link Noida airport with Uttarakhand and Madhya Pradesh via NH-34Khajuraho traders in shock as scammers replace QR codes outside shops overnight to redirect paymentsIndia’s First International-Standard Concrete Velodrome Unveiled at KIIT - KISS Campus, a Game-Changer for Indian Cycling and Sports Infrastructure Vikings vs.', 'score': 0.7371019, 'raw_content': None}, {'url': 'https://www.weather25.com/asia/india/delhi?page=month&month=February', 'title': 'Delhi weather in February 2025 | Delhi 14 day weather', 'content': 'Delhi weather in February 2025 | Delhi 14 day weather Delhi  Delhi Delhi weather in February 2025 The average weather in Delhi in February The wather in Delhi in February can vary between cold and nice weather days. | Delhi in February | | Delhi in May | Temperatures in Delhi in February Weather in Delhi in February - FAQ The average temperature in Delhi in February is 14/26° C. On average, there are 2 rainy days in Delhi during February. The weather in Delhi in February is perfect. On average, there are 0 snowy days in Delhi in February. More about the weather in Delhi Delhi 14 day weather Long range weather for Delhi Delhi weather in March Weather tomorrow Hotels in Delhi', 'score': 0.7213709, 'raw_content': None}], 'response_time': 1.9}), AIMessage(content='The weather in New Delhi is currently 20.4°C with patchy rain nearby. The wind is blowing from the SSE at 9.7 kph.', additional_kwargs={}, response_metadata={'prompt_feedback': {'block_reason': 0, 'safety_ratings': []}, 'finish_reason': 'STOP', 'safety_ratings': []}, id='run-5b65cd6e-47a0-4a45-b911-f480eb6d9245-0', usage_metadata={'input_tokens': 2482, 'output_tokens': 34, 'total_tokens': 2516, 'input_token_details': {'cache_read': 0}})]}, next=(), config={'configurable': {'thread_id': '1', 'checkpoint_ns': '', 'checkpoint_id': '1eff56ff-e3d3-622c-8008-176bc2ca76f5'}}, metadata={'source': 'loop', 'writes': {'ai_assistant': {'messages': [AIMessage(content='The weather in New Delhi is currently 20.4°C with patchy rain nearby. The wind is blowing from the SSE at 9.7 kph.', additional_kwargs={}, response_metadata={'prompt_feedback': {'block_reason': 0, 'safety_ratings': []}, 'finish_reason': 'STOP', 'safety_ratings': []}, id='run-5b65cd6e-47a0-4a45-b911-f480eb6d9245-0', usage_metadata={'input_tokens': 2482, 'output_tokens': 34, 'total_tokens': 2516, 'input_token_details': {'cache_read': 0}})]}}, 'thread_id': '1', 'step': 8, 'parents': {}}, created_at='2025-02-28T01:04:42.737266+00:00', parent_config={'configurable': {'thread_id': '1', 'checkpoint_ns': '', 'checkpoint_id': '1eff56ff-ddaf-6788-8007-46d2e2c6375f'}}, tasks=())"
      ]
     },
     "execution_count": 40,
     "metadata": {},
     "output_type": "execute_result"
    }
   ],
   "source": [
    "\n",
    "app2.get_state(config)"
   ]
  },
  {
   "cell_type": "code",
   "execution_count": 41,
   "metadata": {},
   "outputs": [
    {
     "name": "stdout",
     "output_type": "stream",
     "text": [
      "================================\u001b[1m Human Message \u001b[0m=================================\n",
      "\n",
      "give me the recent news of it?\n",
      "==================================\u001b[1m Ai Message \u001b[0m==================================\n",
      "Tool Calls:\n",
      "  tavily_search_results_json (6fdb6972-fbe5-44a5-9e22-e78bb009193d)\n",
      " Call ID: 6fdb6972-fbe5-44a5-9e22-e78bb009193d\n",
      "  Args:\n",
      "    query: recent news of New Delhi\n"
     ]
    }
   ],
   "source": [
    "snapshot=app2.get_state(config)\n",
    "snapshot.next\n",
    "\n",
    "user_input = \"give me the recent news of it?\"\n",
    "\n",
    "config = {\"configurable\": {\"thread_id\": \"1\"}}\n",
    "\n",
    "\n",
    "# The config is the **second positional argument** to stream() or invoke()!\n",
    "events = app2.stream(\n",
    "    {\"messages\": [(\"user\", user_input)]}, config, stream_mode=\"values\"\n",
    ")\n",
    "\n",
    "for event in events:\n",
    "    if \"messages\" in event:\n",
    "        event[\"messages\"][-1].pretty_print()"
   ]
  },
  {
   "cell_type": "code",
   "execution_count": 42,
   "metadata": {},
   "outputs": [
    {
     "name": "stdout",
     "output_type": "stream",
     "text": [
      "==================================\u001b[1m Ai Message \u001b[0m==================================\n",
      "Tool Calls:\n",
      "  tavily_search_results_json (6fdb6972-fbe5-44a5-9e22-e78bb009193d)\n",
      " Call ID: 6fdb6972-fbe5-44a5-9e22-e78bb009193d\n",
      "  Args:\n",
      "    query: recent news of New Delhi\n"
     ]
    }
   ],
   "source": [
    "snapshot=app2.get_state(config)\n",
    "\n",
    "current_message = snapshot.values[\"messages\"][-1]\n",
    "\n",
    "current_message.pretty_print()"
   ]
  },
  {
   "cell_type": "code",
   "execution_count": 43,
   "metadata": {},
   "outputs": [
    {
     "data": {
      "text/plain": [
       "'6fdb6972-fbe5-44a5-9e22-e78bb009193d'"
      ]
     },
     "execution_count": 43,
     "metadata": {},
     "output_type": "execute_result"
    }
   ],
   "source": [
    "tool_call_id = current_message.tool_calls[0][\"id\"] \n",
    "\n",
    "tool_call_id\n",
    "     "
   ]
  },
  {
   "cell_type": "code",
   "execution_count": 44,
   "metadata": {},
   "outputs": [
    {
     "data": {
      "text/plain": [
       "{'configurable': {'thread_id': '1',\n",
       "  'checkpoint_ns': '',\n",
       "  'checkpoint_id': '1eff5706-ced9-689c-800c-ec44b124a2b3'}}"
      ]
     },
     "execution_count": 44,
     "metadata": {},
     "output_type": "execute_result"
    }
   ],
   "source": [
    "from langchain_core.messages import AIMessage, ToolMessage\n",
    "\n",
    "\n",
    "answer = \"it is just related to raining which is happing on daily basis\"\n",
    "\n",
    "\n",
    "new_messages = [\n",
    "    ToolMessage(content=answer, tool_call_id=tool_call_id),\n",
    "    AIMessage(content=answer),\n",
    "]\n",
    "\n",
    "\n",
    "app2.update_state(\n",
    "    config,\n",
    "    {\"messages\": new_messages},\n",
    ")\n",
    "     \n",
    "\n",
    "     "
   ]
  },
  {
   "cell_type": "code",
   "execution_count": 45,
   "metadata": {},
   "outputs": [
    {
     "name": "stdout",
     "output_type": "stream",
     "text": [
      "[AIMessage(content='it is just related to raining which is happing on daily basis', additional_kwargs={}, response_metadata={}, id='03e8b8e2-5f91-4ca9-b843-261675d2ae32')]\n"
     ]
    }
   ],
   "source": [
    "\n",
    "print(app2.get_state(config).values[\"messages\"][-1:])"
   ]
  }
 ],
 "metadata": {
  "kernelspec": {
   "display_name": "Python 3",
   "language": "python",
   "name": "python3"
  },
  "language_info": {
   "codemirror_mode": {
    "name": "ipython",
    "version": 3
   },
   "file_extension": ".py",
   "mimetype": "text/x-python",
   "name": "python",
   "nbconvert_exporter": "python",
   "pygments_lexer": "ipython3",
   "version": "3.11.0"
  }
 },
 "nbformat": 4,
 "nbformat_minor": 2
}
