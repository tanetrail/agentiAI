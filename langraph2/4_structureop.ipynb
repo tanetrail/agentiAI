{
 "cells": [
  {
   "cell_type": "markdown",
   "metadata": {},
   "source": [
    "A Structured Output Agent in LangChain (or other LLM frameworks) refers to an agent that produces responses in a specific structured format, such as JSON, dictionaries, or other structured data types. These agents are particularly useful when you want to ensure that your responses conform to a defined schema, making it easier to parse, validate, and utilize in downstream applications.\n",
    "\n",
    "Why Use a Structured Output Agent?\n",
    "Controlled Responses: Ensures that the outputs follow a specific format, reducing ambiguity.\n",
    "Data Validation: Useful when you want the model output to fit predefined structures, like for APIs or database entries.\n",
    "Automation: Makes integration with systems like dashboards, ETL pipelines, or business workflows easier."
   ]
  },
  {
   "cell_type": "code",
   "execution_count": 8,
   "metadata": {},
   "outputs": [],
   "source": [
    "import os\n",
    "from dotenv import load_dotenv\n",
    "from datetime import datetime\n",
    "\n",
    "load_dotenv()\n",
    "\n",
    "os.environ[\"GOOGLE_API_KEY\"] = os.getenv(\"GEMINI_API_KEY\")\n",
    "\n",
    "from langchain_google_genai import ChatGoogleGenerativeAI\n",
    "llm = ChatGoogleGenerativeAI(model=\"gemini-2.0-flash-exp\")"
   ]
  },
  {
   "cell_type": "code",
   "execution_count": 9,
   "metadata": {},
   "outputs": [],
   "source": [
    "from langchain_community.tools.tavily_search import TavilySearchResults\n",
    "from langchain_core.tools import tool\n",
    "from pydantic import BaseModel, Field\n",
    "from langgraph.graph import MessagesState,StateGraph, END\n",
    "from langgraph.prebuilt import ToolNode\n",
    "from langchain_core.messages import HumanMessage"
   ]
  },
  {
   "cell_type": "code",
   "execution_count": 10,
   "metadata": {},
   "outputs": [],
   "source": [
    "tavily_tool = TavilySearchResults()\n",
    "\n",
    "@tool\n",
    "def get_city_details(prompt:str):\n",
    "    \"Should do a web search to find the required city details\"\n",
    "    print(\"test\")\n",
    "    response = tavily_tool.invoke(prompt)\n",
    "    return response\n",
    "\n",
    "tools = [get_city_details]\n",
    "\n",
    "model_with_tools = llm.bind_tools(tools)"
   ]
  },
  {
   "cell_type": "markdown",
   "metadata": {},
   "source": [
    "The BaseModel class is a core component of Pydantic, which is used extensively in Python applications for data validation, type checking, and parsing. It's particularly useful when working with APIs, web frameworks like FastAPI, and other scenarios where you need to enforce data structure and ensure data integrity.\n",
    "Here's an overview of the BaseModel class, along with some examples to demonstrate how you can use it effectively.\n",
    "\n",
    "This code defines a Pydantic model called CityDetails using the BaseModel class. Let's break it down:\n",
    "Explanation:\n",
    "\n",
    "Class Definition:\n",
    "\n",
    "CityDetails inherits from BaseModel, making it a data validation model.\n",
    "\n",
    "Fields with Type Annotations:\n",
    "\n",
    "state_name: A string representing the state name of a city.\n",
    "\n",
    "state_capital: A string representing the capital of that state.\n",
    "\n",
    "country_name: A string representing the country name where the city is located.\n",
    "\n",
    "country_capital: A string representing the capital of that country.\n",
    "\n",
    "Field Descriptions:\n",
    "\n",
    "Each field uses Field() to provide a description that helps clarify what information each attribute represents.\n",
    "Purpose:\n",
    "The model validates and structures data related to cities.\n",
    "Useful for ensuring that any data related to cities has the correct structure before processing.\n",
    "Helpful in APIs (like FastAPI) to generate self-documenting endpoints."
   ]
  },
  {
   "cell_type": "code",
   "execution_count": 11,
   "metadata": {},
   "outputs": [],
   "source": [
    "class CityDetails(BaseModel):\n",
    "    \"\"\"Respond to the user with this\"\"\"\n",
    "    state_name: str = Field(description=\"State name of the city\")\n",
    "    state_capital: str = Field(description=\"State capital of the city\")\n",
    "    country_name: str = Field(description=\"Country name of the city\")\n",
    "    country_capital: str = Field(description=\"Country capital of the city\")"
   ]
  },
  {
   "cell_type": "code",
   "execution_count": 12,
   "metadata": {},
   "outputs": [],
   "source": [
    "# Inherit 'messages' key from MessagesState, which is a list of chat messages\n",
    "class AgentState(MessagesState):\n",
    "    # Final structured response from the agent\n",
    "    final_response: CityDetails"
   ]
  },
  {
   "cell_type": "code",
   "execution_count": null,
   "metadata": {},
   "outputs": [],
   "source": [
    "model_with_structured_output = llm.with_structured_output(CityDetails)\n",
    "\n",
    "\n",
    "def call_model(state: MessagesState):\n",
    "    print(f\" this is 01 input from call model {state}\")\n",
    "    messages = state['messages']\n",
    "    response = model_with_tools.invoke(messages)\n",
    "    print(f\"this is 02 response from call model  {response}\")\n",
    "    # We return a list, because this will get added to the existing list\n",
    "    return {\"messages\": [response]}\n",
    "\n",
    "\n",
    "def should_continue(state: AgentState):\n",
    "    messages = state[\"messages\"]\n",
    "    last_message = messages[-1]\n",
    "    \n",
    "    # If there is no function call, then we respond to the user\n",
    "    if not last_message.tool_calls:\n",
    "        return \"respond\"\n",
    "    # Otherwise if there is, we continue with the tool\n",
    "    else:\n",
    "        return \"continue\"\n",
    "    \n",
    "\n",
    "def respond(state: AgentState):\n",
    "    print(f\"here is 03 state from respond {state}\")\n",
    "    response = model_with_structured_output.invoke([HumanMessage(content=state['messages'][-1].content)])\n",
    "    # We return the final answer\n",
    "    print(f\"this is 04 response from respond{response}\")\n",
    "    return {\"final_response\": response}    "
   ]
  },
  {
   "cell_type": "code",
   "execution_count": 15,
   "metadata": {},
   "outputs": [
    {
     "data": {
      "image/png": "[encoded data removed]",
      "text/plain": [
       "<IPython.core.display.Image object>"
      ]
     },
     "metadata": {},
     "output_type": "display_data"
    }
   ],
   "source": [
    "# Define a new graph\n",
    "workflow = StateGraph(AgentState)\n",
    "\n",
    "# Define the two nodes we will cycle between\n",
    "workflow.add_node(\"llm\", call_model)\n",
    "workflow.add_node(\"tools\", ToolNode(tools))\n",
    "workflow.add_node(\"respond\", respond)\n",
    "\n",
    "\n",
    "# Set the entrypoint as `agent`\n",
    "# This means that this node is the first one called\n",
    "workflow.set_entry_point(\"llm\")\n",
    "\n",
    "# We now add a conditional edge\n",
    "workflow.add_conditional_edges(\n",
    "    \"llm\",\n",
    "    \n",
    "    should_continue,\n",
    "    {\n",
    "        \"continue\": \"tools\",\n",
    "        \"respond\": \"respond\",\n",
    "    },\n",
    ")\n",
    "\n",
    "workflow.add_edge(\"tools\", \"llm\")\n",
    "workflow.add_edge(\"respond\", END)\n",
    "graph = workflow.compile()\n",
    "\n",
    "from IPython.display import Image, display\n",
    "# View\n",
    "display(Image(graph.get_graph().draw_mermaid_png()))"
   ]
  },
  {
   "cell_type": "code",
   "execution_count": 18,
   "metadata": {},
   "outputs": [
    {
     "name": "stdout",
     "output_type": "stream",
     "text": [
      " this is 01 input from call model {'messages': [HumanMessage(content='Tell me about the city details for gwalior?', additional_kwargs={}, response_metadata={}, id='e3fb59ef-3ae5-444d-a19e-723c89272fff')]}\n",
      "this is 02 response from call model  content='' additional_kwargs={'function_call': {'name': 'get_city_details', 'arguments': '{\"prompt\": \"city details for gwalior\"}'}} response_metadata={'prompt_feedback': {'block_reason': 0, 'safety_ratings': []}, 'finish_reason': 'STOP', 'safety_ratings': []} id='run-27ba0668-0d76-4615-8294-ce12985df62f-0' tool_calls=[{'name': 'get_city_details', 'args': {'prompt': 'city details for gwalior'}, 'id': 'fd710810-3d23-40be-b9a0-5cb600d95505', 'type': 'tool_call'}] usage_metadata={'input_tokens': 29, 'output_tokens': 12, 'total_tokens': 41, 'input_token_details': {'cache_read': 0}}\n",
      "test\n",
      " this is 01 input from call model {'messages': [HumanMessage(content='Tell me about the city details for gwalior?', additional_kwargs={}, response_metadata={}, id='e3fb59ef-3ae5-444d-a19e-723c89272fff'), AIMessage(content='', additional_kwargs={'function_call': {'name': 'get_city_details', 'arguments': '{\"prompt\": \"city details for gwalior\"}'}}, response_metadata={'prompt_feedback': {'block_reason': 0, 'safety_ratings': []}, 'finish_reason': 'STOP', 'safety_ratings': []}, id='run-27ba0668-0d76-4615-8294-ce12985df62f-0', tool_calls=[{'name': 'get_city_details', 'args': {'prompt': 'city details for gwalior'}, 'id': 'fd710810-3d23-40be-b9a0-5cb600d95505', 'type': 'tool_call'}], usage_metadata={'input_tokens': 29, 'output_tokens': 12, 'total_tokens': 41, 'input_token_details': {'cache_read': 0}}), ToolMessage(content='[{\"url\": \"https://www.gwalioronline.in/guide/about-gwalior\", \"content\": \"GWALIOR ONLINE .IN Gwalior Guide About Gwalior About Gwalior It is located in the Gird Region of India and famous for the Gwalior Fort. The historic city is located 423 km away in north from Bhopal and comes under the administrative district of Gwalior. Economy and Industrialism in Gwalior Gwalior has been a hub of business since ancient times; even now Gwalior is one of the best cities in India to start a business. Gwalior with its rich historical and monumental remains one of the best cities to visit in Madhya Pradesh and India. Gwalior Fort Culture of Gwalior Shopping in Gwalior Gwalior at a glance Must Visits: Gwalior Fort, Tansen Tomb, Gujari Mahal and Jauhar Kund Gwalior Directory Gwalior Guide\"}, {\"url\": \"https://gwaliormunicipalcorporation.org/about-gwalior/geography/\", \"content\": \"Gwalior is a city in Madhya Pradesh in India. Gwalior occupies a strategic location in the Gird region of North India, and the city and its fortress have served as the center of several of North India’s historic kingdoms. The old town of Gwalior lies at the eastern base of the fortress. Lashkar, formerly a separate town that originated as a military camp, lies to the south, and Morar, also a formerly separate town, lies to the east. Gwalior, Lashkar and Morar are presently part of Gwalior Municipality. The old town of Gwalior, commonly called Hazira, which is of considerable size, but irregularly built, lies at the eastern base of the rock. Morar, formerly a separate town, lies three miles east of the old city.\"}, {\"url\": \"https://en.wikipedia.org/wiki/Gwalior\", \"content\": \"Gwalior Gwalior Gwalior Gwalior Gwalior (Hindi: IPA: [ɡʋɑːlɪjəɾ], pronunciationⓘ) is a major city in the central Indian state of Madhya Pradesh; It is known as the City of Music of India[5] having oldest musical gharana in existence. During the Indian Rebellion of 1857, the city was briefly held by rebel forces in 1858 until they were defeated by the British.[19] The Scindia dynasty ruled Gwalior until India\\'s independence from the United Kingdom in 1947, when the Maharaja Jiwajirao Scindia acceded to the Government of India. Gwalior The administration of Gwalior is shared between the departments and institutions of three levels of government – civic administration by the Gwalior Municipal Corporation, state administration by government of Madhya Pradesh, and the central government of India. \\\\\"Gwalior\\\\\".\"}, {\"url\": \"https://www.britannica.com/place/Gwalior-India\", \"content\": \"Gwalior | History, Culture & Tourist Attractions | Britannica Ask the Chatbot Games & Quizzes History & Society Science & Tech Biographies Animals & Nature Geography & Travel Arts & Culture ProCon Money Videos Atrium of the Great Sas-Bahu Temple at Gwalior, Madhya Pradesh, India. https://www.britannica.com/place/Gwalior-India Gwalior, Madhya Pradesh, India(more) Gwalior, city, northern Madhya Pradesh state, central India. 9th century, from the fort at Gwalior, Madhya Pradesh, India.(more) The old city of Gwalior centres on the walled fortress, one of the most famous in India, that is situated atop a cliffed plateau nearly 2 miles (3 km) long that rises a sheer 300 feet (90 metres) from the plain.\"}, {\"url\": \"https://www.ikan.com/gwalior-a-city-with-celebrated-history-and-culture\", \"content\": \"Gwalior – A City With Celebrated History and Culture Gwalior – A City With Celebrated History and Culture After almost two decades in Feb 2020, I have got an opportunity to re-visit Gwalior – my birth place, my hometown where I spent most of my initial childhood years and have very fond and priceless memories. Gwalior is one of the culturally rich, historical cities of India, located in the state of Madhya Pradesh (also fondly known as “Heart of India”). What to do while in Gwalior Koteshwar Temple is a 700 year old temple of Lord Shiva whose\\xa0shivling\\xa0was on Gwalior Fort, but when the Mughals conquered it they ordered the shivling thrown out.\"}]', name='get_city_details', id='25b24590-0794-41d3-ad0e-3deecd86f2d9', tool_call_id='fd710810-3d23-40be-b9a0-5cb600d95505')]}\n",
      "this is 02 response from call model  content=\"Gwalior is a city in Madhya Pradesh, India, known for its strategic location and historical significance. It's famous for the Gwalior Fort and has been a hub of business since ancient times. The city is also known as the City of Music of India.\" additional_kwargs={} response_metadata={'prompt_feedback': {'block_reason': 0, 'safety_ratings': []}, 'finish_reason': 'STOP', 'safety_ratings': []} id='run-7e57209e-1c34-4b92-b3c4-cc1f7a05c524-0' usage_metadata={'input_tokens': 1019, 'output_tokens': 56, 'total_tokens': 1075, 'input_token_details': {'cache_read': 0}}\n",
      "here is 03 state from respond {'messages': [HumanMessage(content='Tell me about the city details for gwalior?', additional_kwargs={}, response_metadata={}, id='e3fb59ef-3ae5-444d-a19e-723c89272fff'), AIMessage(content='', additional_kwargs={'function_call': {'name': 'get_city_details', 'arguments': '{\"prompt\": \"city details for gwalior\"}'}}, response_metadata={'prompt_feedback': {'block_reason': 0, 'safety_ratings': []}, 'finish_reason': 'STOP', 'safety_ratings': []}, id='run-27ba0668-0d76-4615-8294-ce12985df62f-0', tool_calls=[{'name': 'get_city_details', 'args': {'prompt': 'city details for gwalior'}, 'id': 'fd710810-3d23-40be-b9a0-5cb600d95505', 'type': 'tool_call'}], usage_metadata={'input_tokens': 29, 'output_tokens': 12, 'total_tokens': 41, 'input_token_details': {'cache_read': 0}}), ToolMessage(content='[{\"url\": \"https://www.gwalioronline.in/guide/about-gwalior\", \"content\": \"GWALIOR ONLINE .IN Gwalior Guide About Gwalior About Gwalior It is located in the Gird Region of India and famous for the Gwalior Fort. The historic city is located 423 km away in north from Bhopal and comes under the administrative district of Gwalior. Economy and Industrialism in Gwalior Gwalior has been a hub of business since ancient times; even now Gwalior is one of the best cities in India to start a business. Gwalior with its rich historical and monumental remains one of the best cities to visit in Madhya Pradesh and India. Gwalior Fort Culture of Gwalior Shopping in Gwalior Gwalior at a glance Must Visits: Gwalior Fort, Tansen Tomb, Gujari Mahal and Jauhar Kund Gwalior Directory Gwalior Guide\"}, {\"url\": \"https://gwaliormunicipalcorporation.org/about-gwalior/geography/\", \"content\": \"Gwalior is a city in Madhya Pradesh in India. Gwalior occupies a strategic location in the Gird region of North India, and the city and its fortress have served as the center of several of North India’s historic kingdoms. The old town of Gwalior lies at the eastern base of the fortress. Lashkar, formerly a separate town that originated as a military camp, lies to the south, and Morar, also a formerly separate town, lies to the east. Gwalior, Lashkar and Morar are presently part of Gwalior Municipality. The old town of Gwalior, commonly called Hazira, which is of considerable size, but irregularly built, lies at the eastern base of the rock. Morar, formerly a separate town, lies three miles east of the old city.\"}, {\"url\": \"https://en.wikipedia.org/wiki/Gwalior\", \"content\": \"Gwalior Gwalior Gwalior Gwalior Gwalior (Hindi: IPA: [ɡʋɑːlɪjəɾ], pronunciationⓘ) is a major city in the central Indian state of Madhya Pradesh; It is known as the City of Music of India[5] having oldest musical gharana in existence. During the Indian Rebellion of 1857, the city was briefly held by rebel forces in 1858 until they were defeated by the British.[19] The Scindia dynasty ruled Gwalior until India\\'s independence from the United Kingdom in 1947, when the Maharaja Jiwajirao Scindia acceded to the Government of India. Gwalior The administration of Gwalior is shared between the departments and institutions of three levels of government – civic administration by the Gwalior Municipal Corporation, state administration by government of Madhya Pradesh, and the central government of India. \\\\\"Gwalior\\\\\".\"}, {\"url\": \"https://www.britannica.com/place/Gwalior-India\", \"content\": \"Gwalior | History, Culture & Tourist Attractions | Britannica Ask the Chatbot Games & Quizzes History & Society Science & Tech Biographies Animals & Nature Geography & Travel Arts & Culture ProCon Money Videos Atrium of the Great Sas-Bahu Temple at Gwalior, Madhya Pradesh, India. https://www.britannica.com/place/Gwalior-India Gwalior, Madhya Pradesh, India(more) Gwalior, city, northern Madhya Pradesh state, central India. 9th century, from the fort at Gwalior, Madhya Pradesh, India.(more) The old city of Gwalior centres on the walled fortress, one of the most famous in India, that is situated atop a cliffed plateau nearly 2 miles (3 km) long that rises a sheer 300 feet (90 metres) from the plain.\"}, {\"url\": \"https://www.ikan.com/gwalior-a-city-with-celebrated-history-and-culture\", \"content\": \"Gwalior – A City With Celebrated History and Culture Gwalior – A City With Celebrated History and Culture After almost two decades in Feb 2020, I have got an opportunity to re-visit Gwalior – my birth place, my hometown where I spent most of my initial childhood years and have very fond and priceless memories. Gwalior is one of the culturally rich, historical cities of India, located in the state of Madhya Pradesh (also fondly known as “Heart of India”). What to do while in Gwalior Koteshwar Temple is a 700 year old temple of Lord Shiva whose\\xa0shivling\\xa0was on Gwalior Fort, but when the Mughals conquered it they ordered the shivling thrown out.\"}]', name='get_city_details', id='25b24590-0794-41d3-ad0e-3deecd86f2d9', tool_call_id='fd710810-3d23-40be-b9a0-5cb600d95505'), AIMessage(content=\"Gwalior is a city in Madhya Pradesh, India, known for its strategic location and historical significance. It's famous for the Gwalior Fort and has been a hub of business since ancient times. The city is also known as the City of Music of India.\", additional_kwargs={}, response_metadata={'prompt_feedback': {'block_reason': 0, 'safety_ratings': []}, 'finish_reason': 'STOP', 'safety_ratings': []}, id='run-7e57209e-1c34-4b92-b3c4-cc1f7a05c524-0', usage_metadata={'input_tokens': 1019, 'output_tokens': 56, 'total_tokens': 1075, 'input_token_details': {'cache_read': 0}})]}\n",
      "this is 04 response from respondstate_name='Madhya Pradesh' state_capital='Bhopal' country_name='India' country_capital='Delhi'\n"
     ]
    }
   ],
   "source": [
    "answer = graph.invoke(input={\"messages\": [(\"human\", \"Tell me about the city details for gwalior?\")]})['final_response']"
   ]
  },
  {
   "cell_type": "code",
   "execution_count": 19,
   "metadata": {},
   "outputs": [
    {
     "data": {
      "text/plain": [
       "CityDetails(state_name='Madhya Pradesh', state_capital='Bhopal', country_name='India', country_capital='Delhi')"
      ]
     },
     "execution_count": 19,
     "metadata": {},
     "output_type": "execute_result"
    }
   ],
   "source": [
    "answer"
   ]
  },
  {
   "cell_type": "code",
   "execution_count": 17,
   "metadata": {},
   "outputs": [
    {
     "name": "stdout",
     "output_type": "stream",
     "text": [
      " this is 01 input from call model {'messages': [HumanMessage(content='how are you?', additional_kwargs={}, response_metadata={}, id='7204ad62-76ed-4168-9dbe-3b97391daa33')]}\n",
      "this is 02 response from call model  content='I am doing well, thank you for asking. How can I help you today?' additional_kwargs={} response_metadata={'prompt_feedback': {'block_reason': 0, 'safety_ratings': []}, 'finish_reason': 'STOP', 'safety_ratings': []} id='run-a161a70d-6b57-47e7-9d23-410103bc5ebc-0' usage_metadata={'input_tokens': 22, 'output_tokens': 18, 'total_tokens': 40, 'input_token_details': {'cache_read': 0}}\n",
      "here is 03 state from respond {'messages': [HumanMessage(content='how are you?', additional_kwargs={}, response_metadata={}, id='7204ad62-76ed-4168-9dbe-3b97391daa33'), AIMessage(content='I am doing well, thank you for asking. How can I help you today?', additional_kwargs={}, response_metadata={'prompt_feedback': {'block_reason': 0, 'safety_ratings': []}, 'finish_reason': 'STOP', 'safety_ratings': []}, id='run-a161a70d-6b57-47e7-9d23-410103bc5ebc-0', usage_metadata={'input_tokens': 22, 'output_tokens': 18, 'total_tokens': 40, 'input_token_details': {'cache_read': 0}})]}\n",
      "this is 04 response from respondstate_name='string' state_capital='string' country_name='string' country_capital='string'\n"
     ]
    }
   ],
   "source": [
    "answer = graph.invoke(input={\"messages\": [(\"human\", \"how are you?\")]})['final_response']"
   ]
  }
 ],
 "metadata": {
  "kernelspec": {
   "display_name": "Python 3",
   "language": "python",
   "name": "python3"
  },
  "language_info": {
   "codemirror_mode": {
    "name": "ipython",
    "version": 3
   },
   "file_extension": ".py",
   "mimetype": "text/x-python",
   "name": "python",
   "nbconvert_exporter": "python",
   "pygments_lexer": "ipython3",
   "version": "3.11.0"
  }
 },
 "nbformat": 4,
 "nbformat_minor": 2
}
