{
 "cells": [
  {
   "cell_type": "markdown",
   "metadata": {},
   "source": [
    "## orchestrator - Workers Workflow\n",
    "\n",
    "## In this workflow, a central LLM dynamically breakdown tasks, delegates them to worker LLMs and synthesizes their results\n",
    "\n",
    "## When to use this workflow:\n",
    "\n",
    "## This workflow is well suited for complex tasks where you cant predict the subtasks needed. The key difference from simple parallalization is its flexibility\n",
    "## subtasks arent predefined but determined by the orchestrator based on the specific input.\n"
   ]
  },
  {
   "cell_type": "code",
   "execution_count": null,
   "metadata": {
    "vscode": {
     "languageId": "plaintext"
    }
   },
   "outputs": [],
   "source": []
  }
 ],
 "metadata": {
  "language_info": {
   "name": "python"
  }
 },
 "nbformat": 4,
 "nbformat_minor": 2
}
