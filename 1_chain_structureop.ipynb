{
 "cells": [
  {
   "cell_type": "code",
   "execution_count": 2,
   "metadata": {},
   "outputs": [
    {
     "name": "stderr",
     "output_type": "stream",
     "text": [
      "/Users/ips/Documents/trail/AI Agents/aiagent/lib/python3.11/site-packages/tqdm/auto.py:21: TqdmWarning: IProgress not found. Please update jupyter and ipywidgets. See https://ipywidgets.readthedocs.io/en/stable/user_install.html\n",
      "  from .autonotebook import tqdm as notebook_tqdm\n"
     ]
    }
   ],
   "source": [
    "import os\n",
    "from dotenv import load_dotenv\n",
    "\n",
    "load_dotenv()\n",
    "\n",
    "os.environ[\"GOOGLE_API_KEY\"] = os.getenv(\"GEMINI_API_KEY\")\n",
    "\n",
    "from langchain_google_genai import ChatGoogleGenerativeAI\n",
    "llm = ChatGoogleGenerativeAI(model=\"gemini-2.0-flash-exp\")"
   ]
  },
  {
   "cell_type": "code",
   "execution_count": 4,
   "metadata": {},
   "outputs": [
    {
     "name": "stdout",
     "output_type": "stream",
     "text": [
      "I don't have real-time access to a weather API. To get the current weather in Tokyo, I recommend checking a reliable weather source such as:\n",
      "\n",
      "*   **Google Weather:** Just search \"weather in Tokyo\" on Google.\n",
      "*   **AccuWeather:** Go to Accuweather.com and search for Tokyo.\n",
      "*   **The Japan Meteorological Agency (JMA):** This is the official source for weather information in Japan.\n",
      "*   **A weather app on your phone:** Most smartphones have built-in weather apps.\n",
      "\n",
      "These sources will give you the most up-to-date information on temperature, conditions, wind, and more.\n"
     ]
    }
   ],
   "source": [
    "response = llm.invoke(\"What is the weather in Tokyo ?\")\n",
    "print(response.content)"
   ]
  },
  {
   "cell_type": "markdown",
   "metadata": {},
   "source": [
    "## Response Sanitisation"
   ]
  },
  {
   "cell_type": "code",
   "execution_count": 3,
   "metadata": {},
   "outputs": [
    {
     "name": "stdout",
     "output_type": "stream",
     "text": [
      "2\n",
      "Prompt 0: kids driving age\n",
      "The age at which kids can start driving varies depending on the location. Here's a general overview:\n",
      "\n",
      "*   **United States:** The minimum driving age varies by state, but it's generally between 14 and 17 for a learner's permit and 16 to 18 for a full driver's license.\n",
      "*   **Canada:** The minimum driving age also varies by province, typically between 16 and 18.\n",
      "*   **United Kingdom:** You can apply for a provisional driving license at 15 years and 9 months and can start driving a car at 17.\n",
      "*   **Australia:** The minimum driving age varies by state and territory, usually between 16 and 18.\n",
      "\n",
      "It's important to check the specific laws and regulations in your area.\n",
      "Prompt 1: Output the response kids driving age in a way that is safe for kids learning any bad response should be avoided\n",
      "Okay, here's some information about driving age in a way that's safe and appropriate for kids:\n",
      "\n",
      "**When Can You Learn to Drive?**\n",
      "\n",
      "*   In many places, you can start learning to drive with a special permit when you're around 15 or 16 years old. This usually means you need to take a class and pass a test.\n",
      "*   With a learner's permit, you always have to drive with a grown-up who already has a driver's license.\n",
      "*   You can usually get a full driver's license, which lets you drive on your own, when you're 16, 17, or 18, depending on where you live. You'll probably need to take another driving test.\n",
      "\n",
      "**Important Things to Remember About Driving:**\n",
      "\n",
      "*   Driving is a big responsibility!\n",
      "*   It's important to follow all the rules of the road to keep yourself and others safe.\n",
      "*   Drivers need to pay attention and avoid distractions like phones.\n",
      "*   Never drive under the influence of alcohol or drugs.\n",
      "\n",
      "**Why Are There Age Limits?**\n",
      "\n",
      "*   Age limits are in place to help make sure drivers have enough experience and maturity to handle the responsibility of driving safely.\n",
      "\n",
      "**Where Can You Find Out the Exact Age in Your Area?**\n",
      "\n",
      "*   You can ask a grown-up to help you look up the driving age and rules for your specific state or country on the internet. Just search for \"driving age [your state/country]\".\n",
      "\n",
      "**A Note for Kids:**\n",
      "\n",
      "Driving is something you'll be able to do when you're older. For now, focus on being a safe passenger in the car and learning about road safety!\n"
     ]
    }
   ],
   "source": [
    "n = input(\"Enter the question: \")\n",
    "list_of_promts = [\n",
    "    n,\n",
    "    f\"Output the response {n} in a way that is safe for kids learning any bad response should be avoided\"\n",
    "]\n",
    "\n",
    "n = len(list_of_promts)\n",
    "print(n)\n",
    "for i,j in enumerate(list_of_promts):\n",
    "    print(f\"Prompt {i}: {j}\")\n",
    "    llm_response = llm.invoke(j)\n",
    "    print(llm_response.content)\n",
    "    if(i==n):\n",
    "        print(\"Final response : \", llm_response.content)"
   ]
  },
  {
   "cell_type": "markdown",
   "metadata": {},
   "source": [
    "## Structured Outputs"
   ]
  },
  {
   "cell_type": "code",
   "execution_count": 4,
   "metadata": {},
   "outputs": [],
   "source": [
    "from typing import Optional\n",
    "\n",
    "from pydantic import BaseModel, Field\n",
    "from typing_extensions import Annotated, TypedDict"
   ]
  },
  {
   "cell_type": "code",
   "execution_count": 5,
   "metadata": {},
   "outputs": [],
   "source": [
    "class Response(BaseModel):\n",
    "    \"Answer to the question\"\n",
    "    answer:Annotated[str, Field(description=\"The answer to the question\")]\n",
    "    rating:Annotated[int, Field(description=\"The rating of the answer from 1 to 10\")]\n",
    "    safety_rating:Annotated[int, Field(description=\"The safety rating of the answer from 1 to 10 for kids, 10 being the safest\")]\n",
    "\n",
    "\n",
    "structured_llm = llm.with_structured_output(Response)"
   ]
  },
  {
   "cell_type": "code",
   "execution_count": 6,
   "metadata": {},
   "outputs": [
    {
     "name": "stdout",
     "output_type": "stream",
     "text": [
      "Land of vibrant hues and ancient lore,\n",
      "India's spirit echoes evermore.\n",
      "From Himalayas' peaks to oceans' gleam,\n",
      "A tapestry of life, a vibrant dream.\n",
      "\n",
      "Cultures blend in dance and sacred art,\n",
      "A symphony of flavors, a beating heart.\n",
      "Through bustling streets and tranquil temples old,\n",
      "A story unfolds, in silver and gold.\n",
      "\n",
      "With every sunrise, a promise to keep,\n",
      "In unity and diversity, secrets sleep.\n",
      "India, a jewel, forever bright,\n",
      "A beacon of hope, a guiding light.\n",
      "9\n",
      "10\n"
     ]
    }
   ],
   "source": [
    "response = structured_llm.invoke(\"poem on India\")\n",
    "\n",
    "print(response.answer)\n",
    "print(response.rating)\n",
    "print(response.safety_rating)"
   ]
  }
 ],
 "metadata": {
  "kernelspec": {
   "display_name": "Python 3",
   "language": "python",
   "name": "python3"
  },
  "language_info": {
   "codemirror_mode": {
    "name": "ipython",
    "version": 3
   },
   "file_extension": ".py",
   "mimetype": "text/x-python",
   "name": "python",
   "nbconvert_exporter": "python",
   "pygments_lexer": "ipython3",
   "version": "3.11.0"
  }
 },
 "nbformat": 4,
 "nbformat_minor": 2
}
